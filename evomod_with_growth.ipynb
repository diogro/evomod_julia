{
 "cells": [
  {
   "cell_type": "code",
   "execution_count": 1,
   "metadata": {
    "collapsed": false,
    "deletable": true,
    "editable": true
   },
   "outputs": [],
   "source": [
    "using Distributions\n",
    "using ProfileView\n",
    "using StatsFuns\n",
    "using Gadfly\n",
    "using ProgressMeter\n",
    "using DataFrames\n",
    "using DataStructures"
   ]
  },
  {
   "cell_type": "code",
   "execution_count": 2,
   "metadata": {
    "collapsed": false,
    "deletable": true,
    "editable": true
   },
   "outputs": [],
   "source": [
    "type Individual\n",
    "    m::Int64\n",
    "    p::Int64\n",
    "    mu::Float64\n",
    "    mu_b::Float64\n",
    "    mu_sigma::Float64\n",
    "    maturity::Int64\n",
    "    y::Array{Float64, 1}\n",
    "    b::Array{Int64, 2}\n",
    "    z::Array{Float64, 1}\n",
    "    age::Int64\n",
    "    Individual(m, p, mu, mu_b, mu_sigma, maturity) = new(2*m, p, mu, mu_b, mu_sigma, maturity)\n",
    "end  \n",
    "\n",
    "type Population\n",
    "    n::Int64\n",
    "    base_ind::Individual\n",
    "    generation::Int64\n",
    "    fitness::Array{Float64, 1}\n",
    "    a_surface::Distributions.FullNormal\n",
    "    j_surface::Distributions.FullNormal\n",
    "    pop::Array{Individual, 1}\n",
    "    moments::Array{Any, 1}\n",
    "    is_adult::Array{Bool, 1}\n",
    "    the_departed::Array{Int64, 1}\n",
    "    Population(n, base_ind, generation) = new(n, base_ind, generation)\n",
    "end"
   ]
  },
  {
   "cell_type": "code",
   "execution_count": 3,
   "metadata": {
    "collapsed": false,
    "deletable": true,
    "editable": true
   },
   "outputs": [
    {
     "data": {
      "text/plain": [
       "RandomInd (generic function with 3 methods)"
      ]
     },
     "execution_count": 3,
     "metadata": {},
     "output_type": "execute_result"
    }
   ],
   "source": [
    "function RandomInd!(ind::Individual, y_mean::Float64 = 0.0, g_sigma::Float64 = ind.mu_sigma)\n",
    "    ind.y = rand(Normal(y_mean, g_sigma), ind.m)\n",
    "    ind.b = rand(Bernoulli(), ind.p, ind.m)\n",
    "    ind.z = ind.b * ind.y\n",
    "    ind.age = rand(1:100)\n",
    "end\n",
    "\n",
    "function RandomInd(ind::Individual, y_mean::Float64 = 0.0, g_sigma::Float64 = ind.mu_sigma)\n",
    "    new_ind = Individual(ind.m/2, ind.p, ind.mu, ind.mu_b, ind.mu_sigma, ind.maturity)\n",
    "    RandomInd!(new_ind, y_mean, g_sigma)\n",
    "    new_ind\n",
    "end"
   ]
  },
  {
   "cell_type": "code",
   "execution_count": 4,
   "metadata": {
    "collapsed": false,
    "deletable": true,
    "editable": true
   },
   "outputs": [
    {
     "data": {
      "text/plain": [
       "RandomPop! (generic function with 3 methods)"
      ]
     },
     "execution_count": 4,
     "metadata": {},
     "output_type": "execute_result"
    }
   ],
   "source": [
    "function Population(n::Int, ind::Individual, pop_array::Array{Individual, 1})\n",
    "    new_pop = Population(n, ind, 0)\n",
    "    new_pop.generation = 0\n",
    "    new_pop.pop = pop_array\n",
    "    new_pop.moments = []\n",
    "    new_pop\n",
    "end\n",
    "\n",
    "function RandomPop!(pop::Population, y_mean::Float64 = 0.0, g_sigma::Float64 = ind.mu_sigma)\n",
    "    pop.pop = Array(Individual, pop.n)\n",
    "    pop.generation = 0\n",
    "    for i = 1:pop.n\n",
    "        pop.pop[i] = RandomInd(pop.base_ind, y_mean, g_sigma)\n",
    "    end\n",
    "    pop.moments = []\n",
    "    pop.fitness = zeros(Float64, pop.n)\n",
    "    pop.the_departed = []\n",
    "    pop.is_adult = [(pop.pop[i].age > pop.base_ind.maturity) ? true : false for i in 1:pop.n]\n",
    "end"
   ]
  },
  {
   "cell_type": "code",
   "execution_count": 5,
   "metadata": {
    "collapsed": false,
    "deletable": true,
    "editable": true
   },
   "outputs": [
    {
     "data": {
      "text/plain": [
       "invlogit (generic function with 2 methods)"
      ]
     },
     "execution_count": 5,
     "metadata": {},
     "output_type": "execute_result"
    }
   ],
   "source": [
    "import Base.string\n",
    "function string(pop::Population)\n",
    "    return \"a Population with $(pop.n) individuals, at time step $(pop.generation)\"\n",
    "end\n",
    "\n",
    "import Base.print\n",
    "print(io::IO, pop::Population) = print(io, string(pop))\n",
    "\n",
    "import Base.show\n",
    "show(io::IO, pop::Population) = print(io, \"This is \", pop)\n",
    "\n",
    "\n",
    "\n",
    "import Base.getindex\n",
    "function getindex(pop::Population, i::Integer)\n",
    "    getindex(pop.pop, i)\n",
    "end\n",
    "\n",
    "function getindex(pop::Population, s::UnitRange)\n",
    "    Population(length(s), pop.base_ind, getindex(pop.pop, s))\n",
    "end\n",
    "\n",
    "invlogit(x::Float64) = exp(-logsumexp([0, -x]))\n",
    "invlogit(x::Array{Float64,1}) = map(invlogit, x)"
   ]
  },
  {
   "cell_type": "code",
   "execution_count": 6,
   "metadata": {
    "collapsed": false,
    "deletable": true,
    "editable": true
   },
   "outputs": [
    {
     "data": {
      "text/plain": [
       "changeSurface! (generic function with 1 method)"
      ]
     },
     "execution_count": 6,
     "metadata": {},
     "output_type": "execute_result"
    }
   ],
   "source": [
    "function twoModuleMatrix(vars::Array{Float64, 1}, cor1, cor2)\n",
    "    n = size(vars)[1]\n",
    "    n_1 = Int(floor(n/2))\n",
    "    module_1 = [ones(Float64, n_1); zeros(Float64, n - n_1)]\n",
    "    module_2 = [zeros(Float64, n_1); ones(Float64, n - n_1)]\n",
    "    omega = (module_1 * module_1') * cor1 + module_2 * module_2' * cor2\n",
    "    [omega[i, i] = 1 for i = 1:n]\n",
    "    omega .* (sqrt(vars) * sqrt(vars)')\n",
    "end\n",
    "\n",
    "function fitness!(pop::Population)\n",
    "    logfit = Float64[logpdf(pop.is_adult[i] ? pop.a_surface : pop.j_surface, pop[i].z) for i in 1:pop.n]\n",
    "    [logfit[i] = -10e10 for i in pop.the_departed]\n",
    "    sum_log_a_fit = logsumexp(logfit[ pop.is_adult])\n",
    "    sum_log_j_fit = logsumexp(logfit[!pop.is_adult])\n",
    "    pop.fitness = exp(logfit - [(pop.is_adult[i] ? sum_log_a_fit : sum_log_j_fit) for i in 1:pop.n])\n",
    "end\n",
    "\n",
    "function changeSurface!(pop::Population, \n",
    "                        a_theta::Array{Float64, 1}, a_omega::Array{Float64, 2},\n",
    "                        j_theta::Array{Float64, 1}, j_omega::Array{Float64, 2})\n",
    "    pop.a_surface = MvNormal(a_theta, a_omega)\n",
    "    pop.j_surface = MvNormal(j_theta, j_omega)\n",
    "end"
   ]
  },
  {
   "cell_type": "code",
   "execution_count": 7,
   "metadata": {
    "collapsed": false,
    "deletable": true,
    "editable": true
   },
   "outputs": [
    {
     "data": {
      "text/plain": [
       "cross! (generic function with 1 method)"
      ]
     },
     "execution_count": 7,
     "metadata": {},
     "output_type": "execute_result"
    }
   ],
   "source": [
    "function mutation!(ind::Individual)\n",
    "    bin_y = Binomial(ind.m, ind.mu)\n",
    "    bin_b = Binomial(ind.m * ind.p, ind.mu_b)\n",
    "    mutation_y = rand(bin_y)\n",
    "    if(mutation_y > 0)\n",
    "        d_uni_y = DiscreteUniform(1, ind.m)\n",
    "        norm_sigma = Normal(0, ind.mu_sigma)\n",
    "        for k = range(1, mutation_y)\n",
    "            i = rand(d_uni_y)\n",
    "            ind.y[i] = ind.y[i] + rand(norm_sigma)\n",
    "        end\n",
    "    end\n",
    "    mutation_b = rand(bin_b)\n",
    "    if(mutation_b > 0)\n",
    "        d_uni_p = DiscreteUniform(1, ind.p)\n",
    "        d_uni_m = DiscreteUniform(1, ind.m)\n",
    "        for k = range(1, mutation_b)\n",
    "            i = rand(d_uni_p)\n",
    "            j = rand(d_uni_m)\n",
    "            ind.b[i, j] = ind.b[i, j] == 1 ? 0 : 1\n",
    "        end\n",
    "    end\n",
    "end\n",
    "\n",
    "function cross!(ind_1::Individual, ind_2::Individual, new_ind::Individual,\n",
    "                d_uni, alele_1::Array{Int64, 1}, alele_2::Array{Int64, 1})\n",
    "    rand!(d_uni, alele_1)\n",
    "    rand!(d_uni, alele_2)\n",
    "    for locus = range(2, 2, convert(Int64, ind_1.m/2))\n",
    "        new_ind.y[   locus - 1] = ind_1.y[   (locus - 1) + alele_1[convert(Int64, locus/2)]]\n",
    "        new_ind.y[   locus]     = ind_2.y[   (locus - 1) + alele_2[convert(Int64, locus/2)]]\n",
    "        for j in range(1, ind_1.p)\n",
    "            new_ind.b[j, locus - 1] = ind_1.b[j, (locus - 1) + alele_1[convert(Int64, locus/2)]]\n",
    "            new_ind.b[j, locus]     = ind_2.b[j, (locus - 1) + alele_2[convert(Int64, locus/2)]]\n",
    "        end\n",
    "    end\n",
    "    mutation!(new_ind)\n",
    "    new_ind.z = new_ind.b * new_ind.y\n",
    "end"
   ]
  },
  {
   "cell_type": "code",
   "execution_count": 8,
   "metadata": {
    "collapsed": false,
    "deletable": true,
    "editable": true
   },
   "outputs": [
    {
     "data": {
      "text/plain": [
       "mortality! (generic function with 1 method)"
      ]
     },
     "execution_count": 8,
     "metadata": {},
     "output_type": "execute_result"
    }
   ],
   "source": [
    "function mortality!(pop::Population)\n",
    "    survival_prob = [invlogit((pop.fitness[i]/maximum(pop.is_adult[i] ? pop.fitness[pop.is_adult] : pop.fitness[pop.is_adult])  * 10 - 5)) for i in 1:pop.n]\n",
    "    pop.the_departed = union(pop.the_departed, find(x -> x == 1, [rand(Bernoulli(1-survival_prob[i])) for i in 1:pop.n]))\n",
    "end"
   ]
  },
  {
   "cell_type": "code",
   "execution_count": 9,
   "metadata": {
    "collapsed": false
   },
   "outputs": [
    {
     "data": {
      "text/plain": [
       "next_time_step! (generic function with 1 method)"
      ]
     },
     "execution_count": 9,
     "metadata": {},
     "output_type": "execute_result"
    }
   ],
   "source": [
    "function next_time_step!(pop::Population, d_uni, alele_1, alele_2; selective = true)\n",
    "    if (selective)\n",
    "        fitness!(pop)\n",
    "    else\n",
    "        [pop.fitness[i] = pop.is_adult[i] ? 1./sum(pop.is_adult) : 1./sum(!pop.is_adult) for i in 1:pop.n]\n",
    "    end\n",
    "    \n",
    "    key = collect(1:pop.n)[pop.is_adult]\n",
    "    mortality!(pop)\n",
    "    \n",
    "    if any(pop.is_adult)\n",
    "        for ind in pop.the_departed\n",
    "            sire = (key[find(x -> x == 1, rand(Multinomial(1, pop.fitness[pop.is_adult]), 1))])[1]\n",
    "            dam  = (key[find(x -> x == 1, rand(Multinomial(1, pop.fitness[pop.is_adult]), 1))])[1]\n",
    "            cross!(pop.pop[sire], pop.pop[dam], pop.pop[ind], d_uni, alele_1, alele_2)\n",
    "        end\n",
    "        pop.the_departed = []\n",
    "    end\n",
    "        \n",
    "    for i in 1:pop.n\n",
    "        pop.pop[i].age = pop.pop[i].age + 1\n",
    "    end\n",
    "    pop.is_adult = [(pop.pop[i].age > pop.base_ind.maturity) ? true : false for i in 1:pop.n]\n",
    "    pop.generation = pop.generation + 1\n",
    "end "
   ]
  },
  {
   "cell_type": "code",
   "execution_count": 10,
   "metadata": {
    "collapsed": false,
    "deletable": true,
    "editable": true
   },
   "outputs": [
    {
     "data": {
      "text/plain": [
       "moments (generic function with 1 method)"
      ]
     },
     "execution_count": 10,
     "metadata": {},
     "output_type": "execute_result"
    }
   ],
   "source": [
    "function moments!(pop::Population)\n",
    "    pop.moments = [pop.moments; moments(pop)]\n",
    "end\n",
    "\n",
    "function moments(pop::Population)\n",
    "    ys = convert(Array{Float64, 2}, reshape(Float64[ind.y[i] for ind in pop.pop, i in 1:pop.base_ind.m], pop.n, pop.base_ind.m))\n",
    "    zs = convert(Array{Float64, 2}, reshape(Float64[ind.z[i] for ind in pop.pop, i in 1:pop.base_ind.p], pop.n, pop.base_ind.p))\n",
    "    mean_b = zeros(Float64, pop.base_ind.p, pop.base_ind.m)\n",
    "    for i in 1:pop.n\n",
    "        mean_b = mean_b + pop[i].b\n",
    "    end\n",
    "    mean_y = squeeze(mean(ys, 1), 1)\n",
    "    mean_z = squeeze(mean(zs, 1), 1)\n",
    "    mean_b = mean_b / pop.n\n",
    "\n",
    "    P = cov(zs)\n",
    "    corrP = cor(zs)\n",
    "\n",
    "    Dict([(\"mean_y\", mean_y), \n",
    "          (\"mean_b\", mean_b), \n",
    "          (\"mean_z\", mean_z),\n",
    "          (\"zs\", zs), \n",
    "          (\"theta\", pop.a_surface.μ),\n",
    "          (\"gen\", pop.generation),\n",
    "          (\"P\", P), \n",
    "          (\"corrP\", corrP)])\n",
    "end"
   ]
  },
  {
   "cell_type": "code",
   "execution_count": 11,
   "metadata": {
    "collapsed": false,
    "deletable": true,
    "editable": true
   },
   "outputs": [
    {
     "data": {
      "text/plain": [
       "plotSurfacePop (generic function with 1 method)"
      ]
     },
     "execution_count": 11,
     "metadata": {},
     "output_type": "execute_result"
    }
   ],
   "source": [
    "function lowerTri(mat)\n",
    "    p = size(mat)[1]\n",
    "    lower = zeros(Float64, Int64((p * p - p)/2))\n",
    "    k = 1\n",
    "    for i = 1:p, j = 1:p\n",
    "        if(i < j) \n",
    "            lower[k]= mat[i, j]\n",
    "            k = k + 1\n",
    "        end\n",
    "    end\n",
    "    lower\n",
    "end\n",
    "\n",
    "function AVGcorr(mat; modules = Array[collect(1:Int(floor(size(mat)[1]/2))), \n",
    "                                      collect(((Int(floor(size(mat)[1]/2)))+1):size(mat)[1])])\n",
    "    p = size(mat)[1]\n",
    "    avg_plus = [mean(lowerTri(mat[mod, mod])) for mod in modules]\n",
    "    modules_array = Array(Int64, p, p, length(modules))\n",
    "    for j in 1:length(modules)\n",
    "        mod_vec = [any(i .== modules[j]) ? 1 : 0 for i in 1:p]\n",
    "        modules_array[:, :, j] = mod_vec * mod_vec'\n",
    "    end\n",
    "    avg_plus, mean(mat[find(sum(modules_array, 3) .== 0)])\n",
    "end\n",
    "\n",
    "function plotSurfacePop(pop::Population; gen = length(pop.moments))\n",
    "    zs = pop.moments[gen][\"zs\"] \n",
    "    theta = pop.moments[gen][\"theta\"] \n",
    "    zs_eig = (eig(pop.surface.Σ.mat)[2][:, end-1:end]' * zs')'\n",
    "\n",
    "    zs_df = DataFrame(x = zs_eig[:,1], y = zs_eig[:,2], fit = pop.fitness)\n",
    "    sort!(zs_df,  cols = [:fit])\n",
    "\n",
    "    s_theta = eig(pop.surface.Σ.mat)[2][:, end-1:end]' * theta\n",
    "    s_omega = diagm(eig(pop.surface.Σ.mat)[1])[end-1:end,end-1:end]\n",
    "\n",
    "    limits_x = (reduce(min, [s_theta[1] - 2*sqrt(s_omega[1, 1]); zs_eig[:,1]]),\n",
    "                reduce(max, [s_theta[1] + 2*sqrt(s_omega[1, 1]); zs_eig[:,1]]))\n",
    "    limits_y = (reduce(min, [s_theta[2] - 2*sqrt(s_omega[2, 2]); zs_eig[:,2]]),\n",
    "                reduce(max, [s_theta[2] + 2*sqrt(s_omega[2, 2]); zs_eig[:,2]]))\n",
    "\n",
    "    plot(layer(z = (x,y) -> pdf(MvNormal(s_theta, s_omega), [x; y]),\n",
    "               x = linspace(limits_x[1], limits_x[2], 150), y = linspace(limits_y[1], limits_y[2], 150), \n",
    "               Geom.contour),\n",
    "         layer(zs_df, x = \"x\", y = \"y\", color = \"fit\", Geom.point))\n",
    "end"
   ]
  },
  {
   "cell_type": "code",
   "execution_count": 12,
   "metadata": {
    "collapsed": false,
    "deletable": true,
    "editable": true
   },
   "outputs": [
    {
     "data": {
      "text/plain": [
       "run_pop (generic function with 2 methods)"
      ]
     },
     "execution_count": 12,
     "metadata": {},
     "output_type": "execute_result"
    }
   ],
   "source": [
    "function run_pop(ind::Individual,\n",
    "                 n_e::Int64,\n",
    "                 selectionRegimes::Array{String,1},\n",
    "                 regimeGenerations::Array{Int64, 1};\n",
    "                 a_theta::Array{Float64, 1} = zeros(Float64, ind.p), \n",
    "                 a_delta_theta::Array{Float64, 1} = zeros(Float64, ind.p), \n",
    "                 a_omega::Array{Float64, 2} = diagm(ones(Float64, ind.p)), \n",
    "                 j_theta::Array{Float64, 1} = zeros(Float64, ind.p), \n",
    "                 j_delta_theta::Array{Float64, 1} = zeros(Float64, ind.p), \n",
    "                 j_omega::Array{Float64, 2} = diagm(ones(Float64, ind.p)), \n",
    "                 thin = 100)\n",
    "    \n",
    "    pop = Population(n_e, ind, 0)\n",
    "    RandomPop!(pop)\n",
    "\n",
    "    changeSurface!(pop, \n",
    "                   a_theta, a_omega,\n",
    "                   j_theta, j_omega)\n",
    "\n",
    "    fitness!(pop)\n",
    "    \n",
    "    run_pop(pop, selectionRegimes, regimeGenerations; \n",
    "            a_theta = a_theta, a_delta_theta = a_delta_theta, a_omega = a_omega, \n",
    "            j_theta = j_theta, j_delta_theta = j_delta_theta, j_omega = j_omega, thin = thin)\n",
    "end\n",
    "\n",
    "function run_pop(pop::Population,\n",
    "                 selectionRegimes::Array{String,1},\n",
    "                 regimeGenerations::Array{Int64, 1};\n",
    "                 a_theta::Array{Float64, 1} = pop.a_surface.μ, \n",
    "                 a_delta_theta::Array{Float64, 1} = zeros(Float64, ind.p), \n",
    "                 a_omega::Array{Float64, 2} = pop.a_surface.Σ,\n",
    "                 j_theta::Array{Float64, 1} = pop.j_surface.μ, \n",
    "                 j_delta_theta::Array{Float64, 1} = zeros(Float64, ind.p), \n",
    "                 j_omega::Array{Float64, 2} = pop.j_surface.Σ,\n",
    "                 thin = 100)\n",
    "    \n",
    "    changeSurface!(pop, \n",
    "                   a_theta, a_omega,\n",
    "                   j_theta, j_omega)\n",
    "    fitness!(pop)\n",
    "    \n",
    "    d_uni = DiscreteUniform(0, 1)\n",
    "    alele_1 = zeros(Int64, Int64(pop.base_ind.m/2))\n",
    "    alele_2 = zeros(Int64, Int64(pop.base_ind.m/2))\n",
    "    \n",
    "    omega_var = a_omega[1, 1]\n",
    "\n",
    "    regimes = [i for i in zip(selectionRegimes, regimeGenerations)]\n",
    "    \n",
    "    for current_regime in regimes\n",
    "        @showprogress 2 current_regime[1] for i = 1:current_regime[2]\n",
    "            if(i % thin == 0) \n",
    "                moments!(pop)\n",
    "            end\n",
    "            if(startswith(normalize_string(strip(current_regime[1]), casefold = true), \"dire\"))\n",
    "                theta += delta_theta\n",
    "                changeSurface!(pop, theta, omega)\n",
    "            end\n",
    "            next_time_step!(pop, d_uni, alele_1, alele_2, \n",
    "            selective = normalize_string(strip(current_regime[1]), casefold = true) != \"drift\")\n",
    "        end\n",
    "    end\n",
    "    pop\n",
    "end"
   ]
  },
  {
   "cell_type": "code",
   "execution_count": 13,
   "metadata": {
    "collapsed": false,
    "deletable": true,
    "editable": true,
    "scrolled": true
   },
   "outputs": [
    {
     "data": {
      "text/plain": [
       "This is a Population with 1000 individuals, at time step 1"
      ]
     },
     "execution_count": 13,
     "metadata": {},
     "output_type": "execute_result"
    }
   ],
   "source": [
    "n_e  = 5000\n",
    "m    = 400\n",
    "p    = 4\n",
    "mu   = 0.0005\n",
    "mu_b = 0.0001\n",
    "mu_σ = 0.02\n",
    "maturity = 10\n",
    "\n",
    "global ind = Individual(m, p, mu, mu_b, mu_σ, maturity)\n",
    "pop = Population(n_e, ind, 0)\n",
    "RandomPop!(pop)\n",
    "\n",
    "a_omega = twoModuleMatrix([1., 1., 1., 1.], 0.5, 0.5)\n",
    "j_omega = twoModuleMatrix([1., 1., 1., 1.], 0., 0.)\n",
    "\n",
    "changeSurface!(pop, \n",
    "               [0., 0., 0., 0.], a_omega,\n",
    "               [0., 0., 0., 0.], j_omega)\n",
    "\n",
    "\n",
    "fitness!(pop)\n",
    "\n",
    "warm_up = run_pop(ind, 1000, [\"Drift\"], [1])"
   ]
  },
  {
   "cell_type": "code",
   "execution_count": 14,
   "metadata": {
    "collapsed": false,
    "deletable": true,
    "editable": true,
    "scrolled": true
   },
   "outputs": [
    {
     "name": "stdout",
     "output_type": "stream",
     "text": [
      "Drift100% Time: 0:00:57\n",
      "Stab100% Time: 0:00:55\n"
     ]
    },
    {
     "data": {
      "text/plain": [
       "This is a Population with 5000 individuals, at time step 200"
      ]
     },
     "execution_count": 14,
     "metadata": {},
     "output_type": "execute_result"
    }
   ],
   "source": [
    "omega_var = 10\n",
    "diag_omega = diagm(omega_var*ones(Float64, ind.p))\n",
    "\n",
    "burnin_pop = run_pop(ind, n_e, [\"Drift\", \"Stab\"], [100, 100]; a_omega = diag_omega, thin = 1)"
   ]
  },
  {
   "cell_type": "code",
   "execution_count": 17,
   "metadata": {
    "collapsed": false,
    "deletable": true,
    "editable": true,
    "scrolled": true
   },
   "outputs": [
    {
     "ename": "LoadError",
     "evalue": "MethodError: no method matching copy(::Population)\u001b[0m\nClosest candidates are:\n  copy(\u001b[1m\u001b[31m::Expr\u001b[0m) at expr.jl:25\n  copy(\u001b[1m\u001b[31m::IntSet\u001b[0m) at intset.jl:34\n  copy(\u001b[1m\u001b[31m::ObjectIdDict\u001b[0m) at dict.jl:320\n  ...\u001b[0m",
     "output_type": "error",
     "traceback": [
      "MethodError: no method matching copy(::Population)\u001b[0m\nClosest candidates are:\n  copy(\u001b[1m\u001b[31m::Expr\u001b[0m) at expr.jl:25\n  copy(\u001b[1m\u001b[31m::IntSet\u001b[0m) at intset.jl:34\n  copy(\u001b[1m\u001b[31m::ObjectIdDict\u001b[0m) at dict.jl:320\n  ...\u001b[0m",
      ""
     ]
    }
   ],
   "source": [
    "delta_theta_speed = 20/1000\n",
    "delta_theta = delta_theta_speed * [ones(Float64, Int64(ind.p/2)); -1 * ones(Float64, Int64(ind.p/2))]\n",
    "\n",
    "omega_var = 10\n",
    "omega = twoModuleMatrix(omega_var*ones(Float64, ind.p), 0.8, 0.8)\n",
    "\n",
    "direct_pop = copy(burnin_pop)\n",
    "direct_pop.moments = burnin_pop.moments\n",
    "direct_pop = run_pop(direct_pop, [\"Direct\", \"Stab\"], [500, 500]; \n",
    "                     a_delta_theta = a_delta_theta, a_omega = omega, thin = 1)"
   ]
  },
  {
   "cell_type": "code",
   "execution_count": null,
   "metadata": {
    "collapsed": false,
    "deletable": true,
    "editable": true
   },
   "outputs": [],
   "source": [
    "pop = direct_pop"
   ]
  },
  {
   "cell_type": "code",
   "execution_count": 16,
   "metadata": {
    "collapsed": false,
    "deletable": true,
    "editable": true,
    "scrolled": true
   },
   "outputs": [
    {
     "ename": "LoadError",
     "evalue": "BoundsError: attempt to access 0-element Array{Any,1} at index [0]",
     "output_type": "error",
     "traceback": [
      "BoundsError: attempt to access 0-element Array{Any,1} at index [0]",
      "",
      " in getindex(::Array{Any,1}, ::Int64) at ./array.jl:386"
     ]
    }
   ],
   "source": [
    "using Colors\n",
    "\n",
    "a = copy(pop.moments[end][\"corrP\"])\n",
    "[a[i, i] = NaN for i in 1:size(a)[1]]\n",
    "spy(a, Scale.ContinuousColorScale(Scale.lab_gradient(colorant\"lightblue\",\n",
    "                                                     colorant\"white\",\n",
    "                                                     colorant\"red\"), minvalue=-1, maxvalue=1))\n"
   ]
  },
  {
   "cell_type": "code",
   "execution_count": null,
   "metadata": {
    "collapsed": false,
    "deletable": true,
    "editable": true,
    "scrolled": false
   },
   "outputs": [],
   "source": [
    "n = length(pop.moments)\n",
    "df = DataFrame(W = [mean(AVGcorr(pop.moments[i][\"corrG\"])[1]) for i in 200:n],\n",
    "               B = [AVGcorr(pop.moments[i][\"corrG\"])[2] for i in 200:n],\n",
    "               G = collect(200:n) )\n",
    "plot(df, layer(y=\"W\", x=\"G\", Geom.line, Theme(default_color=colorant\"red\")),\n",
    "         layer(y=\"B\", x=\"G\", Geom.line),\n",
    "Guide.manual_color_key(\"Legend\", [\"Within\", \"Between\"], [\"red\", \"deepskyblue\"]))"
   ]
  },
  {
   "cell_type": "code",
   "execution_count": null,
   "metadata": {
    "collapsed": false,
    "deletable": true,
    "editable": true
   },
   "outputs": [],
   "source": [
    "plotSurfacePop(pop, gen = 1200)"
   ]
  },
  {
   "cell_type": "code",
   "execution_count": null,
   "metadata": {
    "collapsed": false,
    "deletable": true,
    "editable": true
   },
   "outputs": [],
   "source": [
    "n = size(pop.moments)[1]\n",
    "p = pop.base_ind.p\n",
    "df_trait = DataFrame(mod1 = [mean(pop.moments[i][\"mean_z\"][1:4])     for i in 1:n],\n",
    "                     mod2 = [mean(pop.moments[i][\"mean_z\"][5:end]) for i in 1:n],\n",
    "                     gen = collect(1:n) )\n",
    "plot(df_trait, layer(y=\"mod1\", x=\"gen\", Geom.line, Theme(default_color=colorant\"red\")),\n",
    "               layer(y=\"mod2\", x=\"gen\", Geom.line),\n",
    "     Guide.manual_color_key(\"Legend\", [\"Trait Module 1\", \"Trait Module 2\"], [\"red\", \"deepskyblue\"]))"
   ]
  },
  {
   "cell_type": "code",
   "execution_count": null,
   "metadata": {
    "collapsed": false,
    "deletable": true,
    "editable": true
   },
   "outputs": [],
   "source": [
    "[mean(pop.moments[i][\"mean_z\"][1:4])     for i in 1:n]"
   ]
  },
  {
   "cell_type": "code",
   "execution_count": null,
   "metadata": {
    "collapsed": false,
    "deletable": true,
    "editable": true
   },
   "outputs": [],
   "source": [
    "eig(pop.surface.Σ.mat)[2][:, end-1:end]' * pop.moments[end][\"mean_z\"] - eig(pop.surface.Σ.mat)[2][:, end-1:end]' * pop.surface.μ "
   ]
  },
  {
   "cell_type": "code",
   "execution_count": null,
   "metadata": {
    "collapsed": false,
    "deletable": true,
    "editable": true
   },
   "outputs": [],
   "source": [
    "n = size(pop.moments)[1]\n",
    "df_trait = DataFrame(P   = [pop.moments[i][\"P\"][1, 1] for i in 1:n],\n",
    "                     h2  = [mean(pop.moments[i][\"h2\"]) for i in 1:n],\n",
    "                     gen = collect(1:n) )\n",
    "plot(df_trait, layer(y=\"h2\", x=\"gen\", Geom.line))"
   ]
  }
 ],
 "metadata": {
  "kernelspec": {
   "display_name": "Julia 0.5.1-pre",
   "language": "julia",
   "name": "julia-0.5"
  },
  "language_info": {
   "file_extension": ".jl",
   "mimetype": "application/julia",
   "name": "julia",
   "version": "0.5.1"
  }
 },
 "nbformat": 4,
 "nbformat_minor": 0
}
