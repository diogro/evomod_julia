{
 "cells": [
  {
   "cell_type": "code",
   "execution_count": 1,
   "metadata": {
    "collapsed": false,
    "deletable": true,
    "editable": true
   },
   "outputs": [],
   "source": [
    "using Distributions\n",
    "using ProfileView\n",
    "using StatsFuns\n",
    "using Gadfly\n",
    "using ProgressMeter\n",
    "using DataFrames"
   ]
  },
  {
   "cell_type": "code",
   "execution_count": 2,
   "metadata": {
    "collapsed": false,
    "deletable": true,
    "editable": true
   },
   "outputs": [],
   "source": [
    "type Individual\n",
    "    m::Int64\n",
    "    p::Int64\n",
    "    mu::Float64\n",
    "    mu_b::Float64\n",
    "    mu_sigma::Float64\n",
    "    maturity::Int64\n",
    "    y::Array{Float64, 1}\n",
    "    b::Array{Int64, 2}\n",
    "    z::Array{Float64, 1}\n",
    "    age::Int64\n",
    "    Individual(m, p, mu, mu_b, mu_sigma, maturity) = new(2*m, p, mu, mu_b, mu_sigma, maturity)\n",
    "end  \n",
    "\n",
    "type Population\n",
    "    n::Int64\n",
    "    base_ind::Individual\n",
    "    generation::Int64\n",
    "    fitness::Array{Float64, 1}\n",
    "    a_surface::Distributions.FullNormal\n",
    "    j_surface::Distributions.FullNormal\n",
    "    pop::Array{Individual, 1}\n",
    "    moments::Array{Any, 1}\n",
    "    is_adult::Array{Bool, 1}\n",
    "    Population(n, base_ind, generation) = new(n, base_ind, generation)\n",
    "end"
   ]
  },
  {
   "cell_type": "code",
   "execution_count": 5,
   "metadata": {
    "collapsed": false
   },
   "outputs": [
    {
     "data": {
      "text/plain": [
       "RandomInd (generic function with 3 methods)"
      ]
     },
     "execution_count": 5,
     "metadata": {},
     "output_type": "execute_result"
    }
   ],
   "source": [
    "function RandomInd!(ind::Individual, y_mean::Float64 = 0.0, g_sigma::Float64 = ind.mu_sigma)\n",
    "    ind.y = rand(Normal(y_mean, g_sigma), ind.m)\n",
    "    ind.b = rand(Bernoulli(), ind.p, ind.m)\n",
    "    ind.z = ind.b * ind.y\n",
    "    ind.age = rand(1:100)\n",
    "end\n",
    "\n",
    "function RandomInd(ind::Individual, y_mean::Float64 = 0.0, g_sigma::Float64 = ind.mu_sigma)\n",
    "    new_ind = Individual(ind.m/2, ind.p, ind.mu, ind.mu_b, ind.mu_sigma, ind.maturity)\n",
    "    RandomInd!(new_ind, y_mean, g_sigma)\n",
    "    new_ind\n",
    "end"
   ]
  },
  {
   "cell_type": "code",
   "execution_count": 19,
   "metadata": {
    "collapsed": false,
    "deletable": true,
    "editable": true
   },
   "outputs": [
    {
     "name": "stderr",
     "output_type": "stream",
     "text": [
      "WARNING: Method definition (::Type{Main.Population})(Int64, Main.Individual, Array{Main.Individual, 1}) in module Main at In[18]:2 overwritten at In[19]:2.\n"
     ]
    },
    {
     "data": {
      "text/plain": [
       "RandomPop! (generic function with 3 methods)"
      ]
     },
     "execution_count": 19,
     "metadata": {},
     "output_type": "execute_result"
    }
   ],
   "source": [
    "function Population(n::Int, ind::Individual, pop_array::Array{Individual, 1})\n",
    "    new_pop = Population(n, ind, 0)\n",
    "    new_pop.generation = 0\n",
    "    new_pop.pop = pop_array\n",
    "    new_pop.moments = []\n",
    "    new_pop\n",
    "end\n",
    "\n",
    "function RandomPop!(pop::Population, y_mean::Float64 = 0.0, g_sigma::Float64 = ind.mu_sigma)\n",
    "    pop.pop = Array(Individual, pop.n)\n",
    "    pop.generation = 0\n",
    "    for i = 1:pop.n\n",
    "        pop.pop[i] = RandomInd(pop.base_ind, y_mean, g_sigma)\n",
    "    end\n",
    "    pop.moments = []\n",
    "    pop.fitness = zeros(Float64, pop.n)\n",
    "    pop.is_adult = [(pop.pop[i].age > pop.base_ind.maturity) ? true : false for i in 1:pop.n]\n",
    "end"
   ]
  },
  {
   "cell_type": "code",
   "execution_count": null,
   "metadata": {
    "collapsed": true
   },
   "outputs": [],
   "source": [
    "import Base.string\n",
    "function string(pop::Population)\n",
    "    return \"a Population with $(pop.n) individuals, at time step $(pop.generation)\"\n",
    "end\n",
    "\n",
    "import Base.print\n",
    "print(io::IO, pop::Population) = print(io, string(pop))\n",
    "\n",
    "import Base.show\n",
    "show(io::IO, pop::Population) = print(io, \"This is \", pop)\n",
    "\n",
    "\n",
    "\n",
    "import Base.getindex\n",
    "function getindex(pop::Population, i::Integer)\n",
    "    getindex(pop.pop, i)\n",
    "end\n",
    "\n",
    "function getindex(pop::Population, s::UnitRange)\n",
    "    Population(length(s), pop.base_ind, getindex(pop.pop, s))\n",
    "end"
   ]
  },
  {
   "cell_type": "code",
   "execution_count": null,
   "metadata": {
    "collapsed": true
   },
   "outputs": [],
   "source": [
    "function twoModuleMatrix(vars::Array{Float64, 1}, cor1, cor2)\n",
    "    n = size(vars)[1]\n",
    "    n_1 = Int(floor(n/2))\n",
    "    module_1 = [ones(Float64, n_1); zeros(Float64, n - n_1)]\n",
    "    module_2 = [zeros(Float64, n_1); ones(Float64, n - n_1)]\n",
    "    omega = (module_1 * module_1') * cor1 + module_2 * module_2' * cor2\n",
    "    [omega[i, i] = 1 for i = 1:n]\n",
    "    omega .* (sqrt(vars) * sqrt(vars)')\n",
    "end\n",
    "\n",
    "function fitness!(pop::Population)\n",
    "    logfit = Float64[logpdf(pop.is_adult[i] ? pop.a_surface : pop.j_surface, pop[i].z) for i in 1:pop.n]\n",
    "    sum_log_a_fit = logsumexp(logfit[ pop.is_adult])\n",
    "    sum_log_j_fit = logsumexp(logfit[!pop.is_adult])\n",
    "    pop.fitness = exp(logfit - [(pop.is_adult[i] ? sum_log_a_fitt : sum_log_j_fit) for i in 1:pop.n])\n",
    "end\n",
    "\n",
    "function changeSurface!(pop::Population, \n",
    "                        a_theta::Array{Float64, 1}, a_omega::Array{Float64, 2},\n",
    "                        j_theta::Array{Float64, 1}, j_omega::Array{Float64, 2})\n",
    "    pop.a_surface = MvNormal(a_theta, a_omega)\n",
    "    pop.j_surface = MvNormal(j_theta, j_omega)\n",
    "end"
   ]
  },
  {
   "cell_type": "code",
   "execution_count": 39,
   "metadata": {
    "collapsed": false
   },
   "outputs": [
    {
     "data": {
      "text/plain": [
       "Population(2,Individual(200,4,0.0005,0.0001,0.02,10,#undef,#undef,#undef,0),0,[0.0,0.0],#undef,#undef,Individual[Individual(200,4,0.0005,0.0001,0.02,10,[-0.00779504,0.0052656,-0.0181157,0.025235,-0.0115565,0.00640876,-0.0305926,0.0276572,-0.00715931,0.0016759  …  -0.0107036,-0.0176425,-0.000129721,0.0211151,-0.0175573,0.0109714,-0.00307276,0.0214936,0.00229205,0.0465361],[0 0 … 1 0; 1 1 … 1 0; 1 0 … 0 1; 1 1 … 1 1],[-0.070257,0.418094,0.0135195,0.0908237],9),Individual(200,4,0.0005,0.0001,0.02,10,[-0.00410773,0.0190983,0.00846177,-0.0319032,-0.0152584,0.00127377,-0.00906027,0.0156725,-0.0470687,0.0044355  …  0.0365046,-0.0068737,0.0045001,0.0134434,0.0216982,-0.0129283,-0.00417914,0.0273356,-0.0096226,-0.0118991],[0 1 … 0 0; 1 1 … 1 0; 1 0 … 1 0; 0 1 … 1 1],[0.0499383,-0.120017,0.105438,0.379901],13)],Any[],Bool[false,true])"
      ]
     },
     "execution_count": 39,
     "metadata": {},
     "output_type": "execute_result"
    }
   ],
   "source": []
  },
  {
   "cell_type": "code",
   "execution_count": null,
   "metadata": {
    "collapsed": true
   },
   "outputs": [],
   "source": [
    "function mutation!(ind::Individual, bin_y, bin_b)\n",
    "    mutation_y = rand(bin_y)\n",
    "    if(mutation_y > 0)\n",
    "        d_uni_y = DiscreteUniform(1, ind.m)\n",
    "        norm_sigma = Normal(0, ind.mu_sigma)\n",
    "        for k = range(1, mutation_y)\n",
    "            i = rand(d_uni_y)\n",
    "            ind.y[i] = ind.y[i] + rand(norm_sigma)\n",
    "        end\n",
    "    end\n",
    "    mutation_b = rand(bin_b)\n",
    "    if(mutation_b > 0)\n",
    "        d_uni_p = DiscreteUniform(1, ind.p)\n",
    "        d_uni_m = DiscreteUniform(1, ind.m)\n",
    "        for k = range(1, mutation_b)\n",
    "            i = rand(d_uni_p)\n",
    "            j = rand(d_uni_m)\n",
    "            ind.b[i, j] = ind.b[i, j] == 1 ? 0 : 1\n",
    "        end\n",
    "    end\n",
    "end\n",
    "\n",
    "# function mutation!(pop::Population)\n",
    "#     bin_y = Binomial(ind.m, ind.mu)\n",
    "#     bin_b = Binomial(ind.m * ind.p, ind.mu_b)\n",
    "#     for k = 1:pop.n\n",
    "#         mutation!(pop.pop[k], bin_y, bin_b)\n",
    "#     end\n",
    "# end"
   ]
  },
  {
   "cell_type": "code",
   "execution_count": null,
   "metadata": {
    "collapsed": false,
    "deletable": true,
    "editable": true
   },
   "outputs": [],
   "source": [
    "function cross!(ind_1::Individual, ind_2::Individual, new_ind::Individual,\n",
    "                d_uni, norm_e, alele_1::Array{Int64, 1}, alele_2::Array{Int64, 1})\n",
    "    rand!(d_uni, alele_1)\n",
    "    rand!(d_uni, alele_2)\n",
    "    for locus = range(2, 2, convert(Int64, ind_1.m/2))\n",
    "        new_ind.y[   locus - 1] = ind_1.y[   (locus - 1) + alele_1[convert(Int64, locus/2)]]\n",
    "        new_ind.y[   locus]     = ind_2.y[   (locus - 1) + alele_2[convert(Int64, locus/2)]]\n",
    "        for j in range(1, ind_1.p)\n",
    "            new_ind.b[j, locus - 1] = ind_1.b[j, (locus - 1) + alele_1[convert(Int64, locus/2)]]\n",
    "            new_ind.b[j, locus]     = ind_2.b[j, (locus - 1) + alele_2[convert(Int64, locus/2)]]\n",
    "        end\n",
    "    end\n",
    "    new_ind.x = new_ind.b * new_ind.y\n",
    "    new_ind.z = new_ind.x + rand(norm_e, new_ind.p)\n",
    "end\n",
    "\n",
    "# function choose_mates!(pop::Population, mates::Array{Int64, 1})\n",
    "#     matings = rand(Multinomial(pop.n, pop.fitness), 1)\n",
    "#     l = 1\n",
    "#     for k = 1:pop.n\n",
    "#         if(matings[k] > 0)\n",
    "#             for i = 1:matings[k]\n",
    "#                 mates[l] = k\n",
    "#                 l = l + 1te\n",
    "#             end\n",
    "#         end\n",
    "#     end\n",
    "#     round(Int64, shuffle!(mates))\n",
    "# end\n",
    "\n",
    "function next_generation!(pop::Population, holder_pop::Population, sires, dames, d_uni, norm_e, alele_1, alele_2; selective = true)\n",
    "    holder_pop.surface = pop.surface\n",
    "    if (selective)\n",
    "        fitness!(pop)\n",
    "    else\n",
    "        fill!(pop.fitness, 1./pop.n)\n",
    "    end\n",
    "    holder_pop.fitness = pop.fitness\n",
    "    mutation!(pop)\n",
    "    choose_mates!(pop, sires)\n",
    "    choose_mates!(pop, dames)\n",
    "    for i in 1:pop.n\n",
    "        cross!(pop[sires[i]], pop[dames[i]], holder_pop.pop[i], d_uni, norm_e, alele_1, alele_2)\n",
    "    end\n",
    "    holder_pop.generation = pop.generation + 1\n",
    "    copy!(holder_pop, pop)\n",
    "end \n",
    "\n",
    "function moments!(pop::Population)\n",
    "    pop.moments = [pop.moments; moments(pop)]\n",
    "end\n",
    "\n",
    "function moments(pop::Population)\n",
    "    ys = convert(Array{Float64, 2}, reshape(Float64[ind.y[i] for ind in pop.pop, i in 1:pop.base_ind.m], pop.n, pop.base_ind.m))\n",
    "    xs = convert(Array{Float64, 2}, reshape(Float64[ind.x[i] for ind in pop.pop, i in 1:pop.base_ind.p], pop.n, pop.base_ind.p))\n",
    "    zs = convert(Array{Float64, 2}, reshape(Float64[ind.z[i] for ind in pop.pop, i in 1:pop.base_ind.p], pop.n, pop.base_ind.p))\n",
    "    mean_b = zeros(Float64, pop.base_ind.p, pop.base_ind.m)\n",
    "    for i in 1:pop.n\n",
    "        mean_b = mean_b + pop[i].b\n",
    "    end\n",
    "    mean_y = squeeze(mean(ys, 1), 1)\n",
    "    mean_x = squeeze(mean(xs, 1), 1)\n",
    "    mean_z = squeeze(mean(zs, 1), 1)\n",
    "    mean_b = mean_b / pop.n\n",
    "\n",
    "    P = cov(zs)\n",
    "    G = cov(xs)\n",
    "    h2 = diag(G) ./ diag(P)\n",
    "    corrG = cor(xs)\n",
    "    corrP = cor(zs)\n",
    "\n",
    "    Dict([(\"mean_y\", mean_y), \n",
    "          (\"mean_b\", mean_b), \n",
    "          (\"mean_x\", mean_x),\n",
    "          (\"mean_z\", mean_z),\n",
    "          (\"zs\", zs), \n",
    "          (\"theta\", pop.surface.μ),\n",
    "          (\"gen\", pop.generation),\n",
    "          (\"P\", P), \n",
    "          (\"G\", G), \n",
    "          (\"h2\", h2), \n",
    "          (\"corrG\", corrG),\n",
    "          (\"corrP\", corrP)])\n",
    "end"
   ]
  },
  {
   "cell_type": "code",
   "execution_count": null,
   "metadata": {
    "collapsed": false,
    "deletable": true,
    "editable": true
   },
   "outputs": [],
   "source": [
    "function lowerTri(mat)\n",
    "    p = size(mat)[1]\n",
    "    lower = zeros(Float64, Int64((p * p - p)/2))\n",
    "    k = 1\n",
    "    for i = 1:p, j = 1:p\n",
    "        if(i < j) \n",
    "            lower[k]= mat[i, j]\n",
    "            k = k + 1\n",
    "        end\n",
    "    end\n",
    "    lower\n",
    "end\n",
    "\n",
    "function AVGcorr(mat; modules = Array[collect(1:Int(floor(size(mat)[1]/2))), \n",
    "                                      collect(((Int(floor(size(mat)[1]/2)))+1):size(mat)[1])])\n",
    "    p = size(mat)[1]\n",
    "    avg_plus = [mean(lowerTri(mat[mod, mod])) for mod in modules]\n",
    "    modules_array = Array(Int64, p, p, length(modules))\n",
    "    for j in 1:length(modules)\n",
    "        mod_vec = [any(i .== modules[j]) ? 1 : 0 for i in 1:p]\n",
    "        modules_array[:, :, j] = mod_vec * mod_vec'\n",
    "    end\n",
    "    avg_plus, mean(mat[find(sum(modules_array, 3) .== 0)])\n",
    "end\n",
    "\n",
    "function plotSurfacePop(pop::Population; gen = length(pop.moments))\n",
    "    zs = pop.moments[gen][\"zs\"] \n",
    "    theta = pop.moments[gen][\"theta\"] \n",
    "    zs_eig = (eig(pop.surface.Σ.mat)[2][:, end-1:end]' * zs')'\n",
    "\n",
    "    zs_df = DataFrame(x = zs_eig[:,1], y = zs_eig[:,2], fit = pop.fitness)\n",
    "    sort!(zs_df,  cols = [:fit])\n",
    "\n",
    "    s_theta = eig(pop.surface.Σ.mat)[2][:, end-1:end]' * theta\n",
    "    s_omega = diagm(eig(pop.surface.Σ.mat)[1])[end-1:end,end-1:end]\n",
    "\n",
    "    limits_x = (reduce(min, [s_theta[1] - 2*sqrt(s_omega[1, 1]); zs_eig[:,1]]),\n",
    "                reduce(max, [s_theta[1] + 2*sqrt(s_omega[1, 1]); zs_eig[:,1]]))\n",
    "    limits_y = (reduce(min, [s_theta[2] - 2*sqrt(s_omega[2, 2]); zs_eig[:,2]]),\n",
    "                reduce(max, [s_theta[2] + 2*sqrt(s_omega[2, 2]); zs_eig[:,2]]))\n",
    "\n",
    "    plot(layer(z = (x,y) -> pdf(MvNormal(s_theta, s_omega), [x; y]),\n",
    "               x = linspace(limits_x[1], limits_x[2], 150), y = linspace(limits_y[1], limits_y[2], 150), \n",
    "               Geom.contour),\n",
    "         layer(zs_df, x = \"x\", y = \"y\", color = \"fit\", Geom.point))\n",
    "end"
   ]
  },
  {
   "cell_type": "code",
   "execution_count": null,
   "metadata": {
    "collapsed": false,
    "deletable": true,
    "editable": true
   },
   "outputs": [],
   "source": [
    "function run_pop(ind::Individual,\n",
    "                 n_e::Int64,\n",
    "                 selectionRegimes::Array{String,1},\n",
    "                 regimeGenerations::Array{Int64, 1};\n",
    "                 theta::Array{Float64, 1} = zeros(Float64, ind.p), \n",
    "                 delta_theta::Array{Float64, 1} = zeros(Float64, ind.p), \n",
    "                 omega::Array{Float64, 2} = diagm(ones(Float64, ind.p)), \n",
    "                 thin = 100)\n",
    "    \n",
    "    pop = Population(n_e, ind, 0)\n",
    "    RandomPop!(pop)\n",
    "\n",
    "    changeSurface!(pop, theta, omega)\n",
    "    fitness!(pop)\n",
    "    \n",
    "    run_pop(pop, selectionRegimes, regimeGenerations; \n",
    "            theta = theta, delta_theta = delta_theta, omega = omega, thin = thin)\n",
    "end\n",
    "\n",
    "function run_pop(pop::Population,\n",
    "                 selectionRegimes::Array{String,1},\n",
    "                 regimeGenerations::Array{Int64, 1};\n",
    "                 theta::Array{Float64, 1} = pop.surface.μ, \n",
    "                 delta_theta::Array{Float64, 1} = zeros(Float64, ind.p), \n",
    "                 omega::Array{Float64, 2} = pop.surface.Σ,\n",
    "                 thin = 100)\n",
    "    \n",
    "    changeSurface!(pop, theta, omega)\n",
    "    fitness!(pop)\n",
    "    \n",
    "    holder_pop = copy(pop)\n",
    "    sires = zeros(Int64, pop.n)\n",
    "    dames = zeros(Int64, pop.n)\n",
    "    d_uni = DiscreteUniform(0, 1)\n",
    "    norm_e  = Normal(0, pop.base_ind.v_e)\n",
    "    alele_1 = zeros(Int64, Int64(pop.base_ind.m/2))\n",
    "    alele_2 = zeros(Int64, Int64(pop.base_ind.m/2))\n",
    "    \n",
    "    omega_var = omega[1, 1]\n",
    "\n",
    "    regimes = [i for i in zip(selectionRegimes, regimeGenerations)]\n",
    "    \n",
    "    for current_regime in regimes\n",
    "        @showprogress 2 current_regime[1] for i = 1:current_regime[2]\n",
    "            if(i % thin == 0) \n",
    "                moments!(pop)\n",
    "            end\n",
    "            if(startswith(normalize_string(strip(current_regime[1]), casefold = true), \"dire\"))\n",
    "                theta += delta_theta\n",
    "                changeSurface!(pop, theta, omega)\n",
    "            end\n",
    "            next_generation!(pop, holder_pop, sires, dames, d_uni, norm_e, alele_1, alele_2, \n",
    "            selective = normalize_string(strip(current_regime[1]), casefold = true) != \"drift\")\n",
    "        end\n",
    "    end\n",
    "    pop\n",
    "end"
   ]
  },
  {
   "cell_type": "code",
   "execution_count": 3,
   "metadata": {
    "collapsed": false,
    "deletable": true,
    "editable": true
   },
   "outputs": [
    {
     "ename": "LoadError",
     "evalue": "UndefVarError: v_e not defined",
     "output_type": "error",
     "traceback": [
      "UndefVarError: v_e not defined",
      ""
     ]
    }
   ],
   "source": [
    "n_e  = 5000\n",
    "m    = 400\n",
    "p    = 8\n",
    "mu   = 0.0005\n",
    "mu_b = 0.0001\n",
    "mu_σ = 0.02\n",
    "maturity = 10\n",
    "\n",
    "global ind = Individual(m, p, mu, mu_b, mu_σ)\n",
    "#warm_up = run_pop(ind, n_e, [\"Drift\"], [1])"
   ]
  },
  {
   "cell_type": "code",
   "execution_count": null,
   "metadata": {
    "collapsed": false,
    "deletable": true,
    "editable": true,
    "scrolled": true
   },
   "outputs": [],
   "source": [
    "omega_var = 10\n",
    "diag_omega = diagm(omega_var*ones(Float64, ind.p))\n",
    "\n",
    "burnin_pop = run_pop(ind, n_e, [\"Drift\", \"Stab\"], [100, 100]; omega = diag_omega, thin = 1)"
   ]
  },
  {
   "cell_type": "code",
   "execution_count": null,
   "metadata": {
    "collapsed": false,
    "deletable": true,
    "editable": true,
    "scrolled": true
   },
   "outputs": [],
   "source": [
    "delta_theta_speed = 20/1000\n",
    "delta_theta = delta_theta_speed * [ones(Float64, Int64(ind.p/2)); -1 * ones(Float64, Int64(ind.p/2))]\n",
    "\n",
    "omega_var = 10\n",
    "omega = twoModuleMatrix(omega_var*ones(Float64, ind.p), 0.8, 0.8)\n",
    "\n",
    "direct_pop = copy(burnin_pop)\n",
    "direct_pop.moments = burnin_pop.moments\n",
    "direct_pop = run_pop(direct_pop, [\"Direct\", \"Stab\"], [500, 500]; \n",
    "                     delta_theta = delta_theta, omega = omega, thin = 1)"
   ]
  },
  {
   "cell_type": "code",
   "execution_count": null,
   "metadata": {
    "collapsed": false,
    "deletable": true,
    "editable": true
   },
   "outputs": [],
   "source": [
    "pop = direct_pop"
   ]
  },
  {
   "cell_type": "code",
   "execution_count": null,
   "metadata": {
    "collapsed": false,
    "deletable": true,
    "editable": true,
    "scrolled": true
   },
   "outputs": [],
   "source": [
    "using Colors\n",
    "\n",
    "a = copy(pop.moments[end][\"corrG\"])\n",
    "[a[i, i] = NaN for i in 1:size(a)[1]]\n",
    "spy(a, Scale.ContinuousColorScale(Scale.lab_gradient(colorant\"lightblue\",\n",
    "                                                     colorant\"white\",\n",
    "                                                     colorant\"red\"), minvalue=-1, maxvalue=1))\n"
   ]
  },
  {
   "cell_type": "code",
   "execution_count": null,
   "metadata": {
    "collapsed": false,
    "deletable": true,
    "editable": true,
    "scrolled": false
   },
   "outputs": [],
   "source": [
    "n = length(pop.moments)\n",
    "df = DataFrame(W = [mean(AVGcorr(pop.moments[i][\"corrG\"])[1]) for i in 200:n],\n",
    "               B = [AVGcorr(pop.moments[i][\"corrG\"])[2] for i in 200:n],\n",
    "               G = collect(200:n) )\n",
    "plot(df, layer(y=\"W\", x=\"G\", Geom.line, Theme(default_color=colorant\"red\")),\n",
    "         layer(y=\"B\", x=\"G\", Geom.line),\n",
    "Guide.manual_color_key(\"Legend\", [\"Within\", \"Between\"], [\"red\", \"deepskyblue\"]))"
   ]
  },
  {
   "cell_type": "code",
   "execution_count": null,
   "metadata": {
    "collapsed": false,
    "deletable": true,
    "editable": true
   },
   "outputs": [],
   "source": [
    "plotSurfacePop(pop, gen = 1200)"
   ]
  },
  {
   "cell_type": "code",
   "execution_count": null,
   "metadata": {
    "collapsed": false,
    "deletable": true,
    "editable": true
   },
   "outputs": [],
   "source": [
    "n = size(pop.moments)[1]\n",
    "p = pop.base_ind.p\n",
    "df_trait = DataFrame(mod1 = [mean(pop.moments[i][\"mean_z\"][1:4])     for i in 1:n],\n",
    "                     mod2 = [mean(pop.moments[i][\"mean_z\"][5:end]) for i in 1:n],\n",
    "                     gen = collect(1:n) )\n",
    "plot(df_trait, layer(y=\"mod1\", x=\"gen\", Geom.line, Theme(default_color=colorant\"red\")),\n",
    "               layer(y=\"mod2\", x=\"gen\", Geom.line),\n",
    "     Guide.manual_color_key(\"Legend\", [\"Trait Module 1\", \"Trait Module 2\"], [\"red\", \"deepskyblue\"]))"
   ]
  },
  {
   "cell_type": "code",
   "execution_count": null,
   "metadata": {
    "collapsed": false,
    "deletable": true,
    "editable": true
   },
   "outputs": [],
   "source": [
    "[mean(pop.moments[i][\"mean_z\"][1:4])     for i in 1:n]"
   ]
  },
  {
   "cell_type": "code",
   "execution_count": null,
   "metadata": {
    "collapsed": false,
    "deletable": true,
    "editable": true
   },
   "outputs": [],
   "source": [
    "eig(pop.surface.Σ.mat)[2][:, end-1:end]' * pop.moments[end][\"mean_z\"] - eig(pop.surface.Σ.mat)[2][:, end-1:end]' * pop.surface.μ "
   ]
  },
  {
   "cell_type": "code",
   "execution_count": null,
   "metadata": {
    "collapsed": false,
    "deletable": true,
    "editable": true
   },
   "outputs": [],
   "source": [
    "n = size(pop.moments)[1]\n",
    "df_trait = DataFrame(P   = [pop.moments[i][\"P\"][1, 1] for i in 1:n],\n",
    "                     h2  = [mean(pop.moments[i][\"h2\"]) for i in 1:n],\n",
    "                     gen = collect(1:n) )\n",
    "plot(df_trait, layer(y=\"h2\", x=\"gen\", Geom.line))"
   ]
  }
 ],
 "metadata": {
  "kernelspec": {
   "display_name": "Julia 0.5.1-pre",
   "language": "julia",
   "name": "julia-0.5"
  },
  "language_info": {
   "file_extension": ".jl",
   "mimetype": "application/julia",
   "name": "julia",
   "version": "0.5.1"
  }
 },
 "nbformat": 4,
 "nbformat_minor": 0
}
