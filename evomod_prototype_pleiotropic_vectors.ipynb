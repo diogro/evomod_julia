{
 "cells": [
  {
   "cell_type": "code",
   "execution_count": 4,
   "metadata": {
    "collapsed": false,
    "deletable": true,
    "editable": true
   },
   "outputs": [
    {
     "name": "stderr",
     "output_type": "stream",
     "text": [
      "\u001b[1m\u001b[34mINFO: Precompiling module Graphics.\n",
      "\u001b[0m\u001b[1m\u001b[31mWARNING: Module Colors with uuid 254316556476747 is missing from the cache.\n",
      "This may mean module Colors does not support precompilation but is imported by a module that does.\u001b[0m\n",
      "\u001b[1m\u001b[31mERROR: LoadError: Declaring __precompile__(false) is not allowed in files that are being precompiled.\n",
      " in require(::Symbol) at ./loading.jl:385\n",
      " in include_from_node1(::String) at ./loading.jl:488\n",
      " in macro expansion; at ./none:2 [inlined]\n",
      " in anonymous at ./<missing>:?\n",
      " in eval(::Module, ::Any) at ./boot.jl:234\n",
      " in process_options(::Base.JLOptions) at ./client.jl:242\n",
      " in _start() at ./client.jl:321\n",
      "while loading /home/diogro/.julia/v0.5/Graphics/src/Graphics.jl, in expression starting on line 6\n",
      "\u001b[0m"
     ]
    },
    {
     "ename": "LoadError",
     "evalue": "Failed to precompile Graphics to /home/diogro/.julia/lib/v0.5/Graphics.ji.",
     "output_type": "error",
     "traceback": [
      "Failed to precompile Graphics to /home/diogro/.julia/lib/v0.5/Graphics.ji.",
      "",
      " in compilecache(::String) at ./loading.jl:593",
      " in require(::Symbol) at ./loading.jl:422",
      " in _include_from_serialized(::String) at ./loading.jl:150",
      " in _require_from_serialized(::Int64, ::Symbol, ::String, ::Bool) at ./loading.jl:187",
      " in _require_search_from_serialized(::Int64, ::Symbol, ::String, ::Bool) at ./loading.jl:217",
      " in require(::Symbol) at ./loading.jl:371",
      " in include_string(::String, ::String) at ./loading.jl:441"
     ]
    }
   ],
   "source": [
    "using Distributions\n",
    "using ProfileView\n",
    "using StatsFuns\n",
    "using Gadfly\n",
    "using ProgressMeter\n",
    "using DataFrames\n",
    "using Colors\n",
    "using Viridis\n",
    "using DataStructures"
   ]
  },
  {
   "cell_type": "code",
   "execution_count": 1,
   "metadata": {
    "collapsed": false
   },
   "outputs": [
    {
     "ename": "LoadError",
     "evalue": "UndefVarError: Distributions not defined",
     "output_type": "error",
     "traceback": [
      "UndefVarError: Distributions not defined",
      "",
      " in include_string(::String, ::String) at ./loading.jl:441"
     ]
    }
   ],
   "source": [
    "type Individual\n",
    "    m::Int64\n",
    "    p::Int64\n",
    "    mu::Float64\n",
    "    mu_b::Float64\n",
    "    mu_sigma::Float64\n",
    "    mu_sigma_b::Float64\n",
    "    y::Array{Float64, 1}\n",
    "    b::Array{Float64, 2}\n",
    "    z::Array{Float64, 1}\n",
    "    Individual(m, p, mu, mu_b, mu_sigma) = new(2*m, p, mu, mu_b, mu_sigma, mu_sigma_b)\n",
    "end  \n",
    "\n",
    "type Population\n",
    "    n::Int64\n",
    "    base_ind::Individual\n",
    "    generation::Int64\n",
    "    fitness::Array{Float64, 1}\n",
    "    surface::Distributions.FullNormal\n",
    "    pop::Array{Individual, 1}\n",
    "    moments::Array{Any, 1}\n",
    "    Population(n, base_ind, generation) = new(n, base_ind, generation)\n",
    "end"
   ]
  },
  {
   "cell_type": "code",
   "execution_count": null,
   "metadata": {
    "collapsed": false
   },
   "outputs": [],
   "source": [
    "function Population(n::Int, base_ind::Individual, pop_array::Array{Individual, 1})\n",
    "    new_pop = Population(n, base_ind, 0)\n",
    "    new_pop.generation = 0\n",
    "    new_pop.pop = pop_array\n",
    "    new_pop.moments = []\n",
    "    new_pop\n",
    "end\n",
    "\n",
    "function RandomInd!(ind::Individual, base_ind::Individual)\n",
    "    ind.y = rand(Normal(0, base_ind.mu_sigma), ind.m)\n",
    "    ind.b = rand(Normal(0, base_ind.mu_sigma_b), ind.p, ind.m)\n",
    "    ind.z = ind.b * ind.y\n",
    "end\n",
    "\n",
    "function RandomInd(base_ind::Individual)\n",
    "    new_ind = Individual(base_ind.m/2, base_ind.p, base_ind.mu, base_ind.mu_b, base_ind.mu_sigma)\n",
    "    RandomInd!(new_ind, base_ind)\n",
    "    new_ind\n",
    "end\n",
    "\n",
    "function RandomPop!(pop::Population)\n",
    "    pop.pop = Array(Individual, pop.n)\n",
    "    pop.generation = 0\n",
    "    for i = 1:pop.n\n",
    "        pop.pop[i] = RandomInd(pop.base_ind)\n",
    "    end\n",
    "    pop.moments = []\n",
    "    pop.fitness = zeros(Float64, pop.n)\n",
    "end"
   ]
  },
  {
   "cell_type": "code",
   "execution_count": 7,
   "metadata": {
    "collapsed": false
   },
   "outputs": [
    {
     "data": {
      "text/plain": [
       "10-element Array{Array{Float64,1},1}:\n",
       " [-0.992306,0.123811] \n",
       " [0.544166,0.838978]  \n",
       " [0.329114,-0.94429]  \n",
       " [-0.0651529,0.997875]\n",
       " [0.0484559,-0.998825]\n",
       " [0.989469,-0.144746] \n",
       " [0.00444116,0.99999] \n",
       " [0.108129,-0.994137] \n",
       " [0.995124,0.0986353] \n",
       " [0.458073,0.888915]  "
      ]
     },
     "execution_count": 7,
     "metadata": {},
     "output_type": "execute_result"
    }
   ],
   "source": [
    "b = rand(Normal(0,0.1), 2, 10)\n",
    "[normalize!(b[:,i]) for i in 1:10]"
   ]
  },
  {
   "cell_type": "code",
   "execution_count": null,
   "metadata": {
    "collapsed": true
   },
   "outputs": [],
   "source": [
    "import Base.string\n",
    "function string(pop::Population)\n",
    "    return \"a Population with $(pop.n) individuals, at generation $(pop.generation)\"\n",
    "end\n",
    "\n",
    "import Base.print\n",
    "print(io::IO, pop::Population) = print(io, string(pop))\n",
    "\n",
    "import Base.show\n",
    "show(io::IO, pop::Population) = print(io, \"This is \", pop)\n",
    "\n",
    "import Base.getindex\n",
    "function getindex(pop::Population, i::Integer)\n",
    "    getindex(pop.pop, i)\n",
    "end\n",
    "\n",
    "function getindex(pop::Population, s::UnitRange)\n",
    "    Population(length(s), pop.base_ind, getindex(pop.pop, s))\n",
    "end\n",
    "\n",
    "function append!(pop::Population, ind::Individual)\n",
    "    pop.pop = [pop.pop; ind]\n",
    "    pop.n = length(pop.pop)\n",
    "end\n",
    "\n",
    "function append!(pop1::Population, pop2::Population)\n",
    "    # COMPARE BASE IND!\n",
    "    pop1.pop = [pop1.pop; pop2.pop]\n",
    "    pop.n = length(pop1.pop)\n",
    "end\n",
    "\n",
    "function join(pop1::Population, pop2::Population)\n",
    "    # TODO: COMPARE BASE IND!\n",
    "    new_pop = Population(pop1.n + pop2.n, pop1.base_ind)\n",
    "    new_pop.pop = [pop1.pop; pop2.pop]\n",
    "    new_pop\n",
    "end\n",
    "\n",
    "function copy!(source::Population, sink::Population)\n",
    "    sink.n          = source.n\n",
    "    sink.base_ind   = source.base_ind\n",
    "    sink.generation = source.generation\n",
    "    sink.fitness    = source.fitness\n",
    "    sink.surface    = source.surface\n",
    "    sink.pop        = copy(source.pop)\n",
    "end\n",
    "\n",
    "import Base.copy\n",
    "function copy(source::Population)\n",
    "    new_pop = Population(source.n, source.base_ind, source.generation)\n",
    "    copy!(source, new_pop)\n",
    "    new_pop\n",
    "end"
   ]
  },
  {
   "cell_type": "code",
   "execution_count": null,
   "metadata": {
    "collapsed": true
   },
   "outputs": [],
   "source": [
    "function mutation!(ind::Individual, bin_y)\n",
    "    mutation_y = rand(bin_y)\n",
    "    if(mutation_y > 0)\n",
    "        d_uni_y = DiscreteUniform(1, ind.m)\n",
    "        norm_sigma = Normal(0, ind.mu_sigma)\n",
    "        for k = range(1, mutation_y)\n",
    "            i = rand(d_uni_y)\n",
    "            ind.y[i] = ind.y[i] + rand(norm_sigma)\n",
    "        end\n",
    "    end\n",
    "end\n",
    "\n",
    "function mutation!(pop::Population)\n",
    "    bin_y = Binomial(pop.base_ind.m, pop.base_ind.mu)\n",
    "    bin_b = Binomial(pop.base_ind.m * pop.base_ind.p, pop.base_ind.mu_b)\n",
    "    for k = 1:pop.n\n",
    "        mutation!(pop.pop[k], bin_y, bin_b)\n",
    "    end\n",
    "end\n",
    "\n",
    "function cross!(ind_1::Individual, ind_2::Individual, new_ind::Individual,\n",
    "                d_uni, alele_1::Array{Int64, 1}, alele_2::Array{Int64, 1})\n",
    "    rand!(d_uni, alele_1)\n",
    "    rand!(d_uni, alele_2)\n",
    "    for locus = range(2, 2, convert(Int64, ind_1.m/2))\n",
    "        new_ind.y[   locus - 1] = ind_1.y[   (locus - 1) + alele_1[convert(Int64, locus/2)]]\n",
    "        new_ind.y[   locus]     = ind_2.y[   (locus - 1) + alele_2[convert(Int64, locus/2)]]\n",
    "        for j in range(1, ind_1.p)\n",
    "            new_ind.b[j, locus - 1] = ind_1.b[j, (locus - 1) + alele_1[convert(Int64, locus/2)]]\n",
    "            new_ind.b[j, locus]     = ind_2.b[j, (locus - 1) + alele_2[convert(Int64, locus/2)]]\n",
    "        end\n",
    "    end\n",
    "    new_ind.z = new_ind.b * new_ind.y\n",
    "end\n",
    "\n",
    "\n",
    "function choose_mates!(pop::Population, mates::Array{Int64, 1})\n",
    "    matings = rand(Multinomial(pop.n, pop.fitness), 1)\n",
    "    l = 1\n",
    "    for k = 1:pop.n\n",
    "        if(matings[k] > 0)\n",
    "            for i = 1:matings[k]\n",
    "                mates[l] = k\n",
    "                l = l + 1\n",
    "            end\n",
    "        end\n",
    "    end\n",
    "    round(Int64, shuffle!(mates))\n",
    "end\n",
    "\n",
    "function next_generation!(pop::Population, holder_pop::Population, sires, dames, d_uni, alele_1, alele_2; selective = true)\n",
    "    holder_pop.surface = pop.surface\n",
    "    if (selective)\n",
    "        fitness!(pop)\n",
    "    else\n",
    "        fill!(pop.fitness, 1./pop.n)\n",
    "    end\n",
    "    holder_pop.fitness = pop.fitness\n",
    "    mutation!(pop)\n",
    "    choose_mates!(pop, sires)\n",
    "    choose_mates!(pop, dames)\n",
    "    for i in 1:pop.n\n",
    "        cross!(pop[sires[i]], pop[dames[i]], holder_pop.pop[i], d_uni, alele_1, alele_2)\n",
    "    end\n",
    "    holder_pop.generation = pop.generation + 1\n",
    "    copy!(holder_pop, pop)\n",
    "end \n",
    "\n",
    "function moments!(pop::Population)\n",
    "    pop.moments = [pop.moments; moments(pop)]\n",
    "end"
   ]
  },
  {
   "cell_type": "code",
   "execution_count": null,
   "metadata": {
    "collapsed": true
   },
   "outputs": [],
   "source": [
    "function fitness!(pop::Population)\n",
    "    logfit = Float64[logpdf(pop.surface, pop[i].z) for i in 1:pop.n]\n",
    "    #logfit = Float64[logpdf(pop.surface, pop[i].z) * (1-0.95*sum(abs(pop[i].b))/(size(pop[i].b)[1] * size(pop[i].b)[2])) for i in 1:pop.n]\n",
    "    pop.fitness = exp(logfit - logsumexp(logfit))\n",
    "end\n",
    "\n",
    "function changeSurface!(pop::Population, theta::Array{Float64, 1}, omega::Array{Float64, 2})\n",
    "    pop.surface = MvNormal(theta, omega)\n",
    "end\n",
    "\n",
    "function twoModuleMatrix(vars::Array{Float64, 1}, cor1, cor2)\n",
    "    n = size(vars)[1]\n",
    "    n_1 = Int(floor(n/2))\n",
    "    module_1 = [ones(Float64, n_1); zeros(Float64, n - n_1)]\n",
    "    module_2 = [zeros(Float64, n_1); ones(Float64, n - n_1)]\n",
    "    omega = (module_1 * module_1') * cor1 + module_2 * module_2' * cor2\n",
    "    [omega[i, i] = 1 for i = 1:n]\n",
    "    omega .* (sqrt(vars) * sqrt(vars)')\n",
    "end"
   ]
  },
  {
   "cell_type": "code",
   "execution_count": null,
   "metadata": {
    "collapsed": true
   },
   "outputs": [],
   "source": [
    "function moments(pop::Population)\n",
    "    zs = convert(Array{Float64, 2}, reshape(Float64[ind.z[i] for ind in pop.pop, i in 1:pop.base_ind.p], pop.n, pop.base_ind.p))\n",
    "    mean_y = zeros(Float64, pop.base_ind.p, pop.base_ind.m)\n",
    "    for i in 1:pop.n\n",
    "        mean_y = mean_y + pop[i].y\n",
    "    end\n",
    "    mean_z = squeeze(mean(zs, 1), 1)\n",
    "    mean_b = mean_b / pop.n\n",
    "    \n",
    "    G = cov(zs)\n",
    "    corrG = cor(zs)\n",
    "  \n",
    "    Dict([(\"mean_y\", mean_y), \n",
    "          (\"mean_z\", mean_z),\n",
    "          (\"zs\", zs), \n",
    "          (\"theta\", pop.surface.μ),\n",
    "          (\"gen\", pop.generation),\n",
    "          (\"G\", G), \n",
    "          (\"corrG\", corrG)])\n",
    "end"
   ]
  },
  {
   "cell_type": "code",
   "execution_count": null,
   "metadata": {
    "collapsed": true
   },
   "outputs": [],
   "source": [
    "function lowerTri(mat)\n",
    "    p = size(mat)[1]\n",
    "    lower = zeros(Float64, Int64((p * p - p)/2))\n",
    "    k = 1\n",
    "    for i = 1:p, j = 1:p\n",
    "        if(i < j) \n",
    "            lower[k]= mat[i, j]\n",
    "            k = k + 1\n",
    "        end\n",
    "    end\n",
    "    lower\n",
    "end\n",
    "\n",
    "function AVGcorr(mat; modules = Array[collect(1:Int(floor(size(mat)[1]/2))), \n",
    "                                      collect(((Int(floor(size(mat)[1]/2)))+1):size(mat)[1])])\n",
    "    p = size(mat)[1]\n",
    "    avg_plus = [mean(lowerTri(mat[mod, mod])) for mod in modules]\n",
    "    modules_array = Array(Int64, p, p, length(modules))\n",
    "    for j in 1:length(modules)\n",
    "        mod_vec = [any(i .== modules[j]) ? 1 : 0 for i in 1:p]\n",
    "        modules_array[:, :, j] = mod_vec * mod_vec'\n",
    "    end\n",
    "    avg_plus, mean(mat[find(sum(modules_array, 3) .== 0)])\n",
    "end\n",
    "\n",
    "function plotSurfacePop(pop::Population; gen = length(pop.moments))\n",
    "    zs = pop.moments[gen][\"zs\"] \n",
    "    theta = pop.moments[gen][\"theta\"] \n",
    "    zs_eig = (eig(pop.surface.Σ.mat)[2][:, end-1:end]' * zs')'\n",
    "\n",
    "    zs_df = DataFrame(x = zs_eig[:,1], y = zs_eig[:,2], fit = pop.fitness)\n",
    "    sort!(zs_df,  cols = [:fit])\n",
    "\n",
    "    s_theta = eig(pop.surface.Σ.mat)[2][:, end-1:end]' * theta\n",
    "    s_omega = diagm(eig(pop.surface.Σ.mat)[1])[end-1:end,end-1:end]\n",
    "\n",
    "    limits_x = (reduce(min, [s_theta[1] - 2*sqrt(s_omega[1, 1]); zs_eig[:,1]]),\n",
    "                reduce(max, [s_theta[1] + 2*sqrt(s_omega[1, 1]); zs_eig[:,1]]))\n",
    "    limits_y = (reduce(min, [s_theta[2] - 2*sqrt(s_omega[2, 2]); zs_eig[:,2]]),\n",
    "                reduce(max, [s_theta[2] + 2*sqrt(s_omega[2, 2]); zs_eig[:,2]]))\n",
    "\n",
    "    plot(layer(z = (x,y) -> pdf(MvNormal(s_theta, s_omega), [x; y]),\n",
    "               x = linspace(limits_x[1], limits_x[2], 150), y = linspace(limits_y[1], limits_y[2], 150), \n",
    "               Geom.contour),\n",
    "         layer(zs_df, x = \"x\", y = \"y\", color = \"fit\", Geom.point))\n",
    "end\n",
    "\n",
    "function plotCorrelations(pop::Population, start = 1)\n",
    "    n = length(pop.moments)\n",
    "    df_P = DataFrame(W_1 = [AVGcorr(pop.moments[i][\"corrG\"])[1][1] for i in start:n],\n",
    "                     W_2 = [AVGcorr(pop.moments[i][\"corrG\"])[1][2] for i in start:n],\n",
    "                     B = [AVGcorr(pop.moments[i][\"corrG\"])[2] for i in start:n],\n",
    "                     G = collect(start:n) )\n",
    "    plot(df_P, layer(y=\"W_1\", x=\"G\", Geom.line, Theme(default_color=colorant\"red\")),\n",
    "               layer(y=\"W_2\", x=\"G\", Geom.line, Theme(default_color=colorant\"green\")),\n",
    "               layer(y=\"B\", x=\"G\", Geom.line),\n",
    "    Guide.manual_color_key(\"Legend\", [\"Within 1\", \"Whithin 2\", \"Between\"], [\"red\", \"green\", \"deepskyblue\"]))\n",
    "end\n",
    "\n",
    "function plotAVGRatio(pop::Population, start = 1)\n",
    "    n = length(pop.moments)\n",
    "    df_P = DataFrame(W = [mean(AVGcorr(pop.moments[i][\"corrG\"])[1]) / AVGcorr(pop.moments[i][\"corrG\"])[2] for i in start:n],\n",
    "                     G = collect(start:n) )\n",
    "    plot(df_P, layer(y=\"W\", x=\"G\", Geom.line))\n",
    "end\n",
    "\n",
    "\n",
    "function plotTraits(pop::Population, start = 1)\n",
    "    n = size(pop.moments)[1]\n",
    "    p2 = convert(Int64, pop.base_ind.p/2)\n",
    "    df_trait = DataFrame(mod1   = [mean(pop.moments[i][\"mean_z\"][1:p2])     for i in start:n],\n",
    "                         theta1 = [mean(pop.moments[i][\"theta\"][1:p2])     for i in start:n],\n",
    "                         mod2   = [mean(pop.moments[i][\"mean_z\"][(p2+1):end]) for i in start:n],\n",
    "                         theta2 = [mean(pop.moments[i][\"theta\"][(p2+1):end]) for i in start:n],\n",
    "                         gen    = collect(start:n) )\n",
    "    plot(df_trait, layer(y=\"mod1\", x=\"gen\", Geom.line, Theme(default_color=colorant\"red\")),\n",
    "                   layer(y=\"theta1\", x=\"gen\", Geom.line, Theme(default_color=colorant\"darkred\")),\n",
    "                   layer(y=\"theta2\", x=\"gen\", Geom.line, Theme(default_color=colorant\"darkblue\")),\n",
    "                   layer(y=\"mod2\", x=\"gen\", Geom.line),\n",
    "         Guide.manual_color_key(\"Legend\", [\"Trait Module 1\", \"Trait Module 2\", \"Theta Module 1\", \"Theta module 2\"], \n",
    "                                [\"red\", \"deepskyblue\", \"darkred\", \"darkblue\"]))\n",
    "end\n",
    "\n",
    "function plotPleitropy(pop::Population, start = 1)\n",
    "    df = copy(pop.moments[start][\"count_b\"])\n",
    "    for i in (start+1):pop.generation\n",
    "        df = [df; pop.moments[i][\"count_b\"]]\n",
    "    end\n",
    "    plot(df, x = \"gen\", y = \"count\", color=\"class\", Geom.line)\n",
    "end"
   ]
  },
  {
   "cell_type": "code",
   "execution_count": null,
   "metadata": {
    "collapsed": true
   },
   "outputs": [],
   "source": [
    "function classifyBj(b_j::Array{Int64, 1})\n",
    "    if abs(b_j) == [1, 1, 0, 0] || abs(b_j) == [0, 0, 1, 1] \n",
    "        \"Modular\"\n",
    "    elseif b_j == [1, 1, -1, -1] || b_j == [-1, -1, 1, 1]\n",
    "        \"Antagonistic\"\n",
    "    elseif b_j == [-1, 1, 1, 1] || b_j == [1, -1, 1, 1] || b_j == [1, 1, -1, 1] || b_j == [1, 1, 1, -1]\n",
    "        \"Antagonistic\"\n",
    "    elseif b_j == [1, -1, -1, -1] || b_j == [-1, 1, -1, -1] || b_j == [-1, -1, 1, -1] || b_j == [-1, -1, -1, 1]\n",
    "        \"Antagonistic\"\n",
    "    elseif b_j == [0, 1, -1, -1] || b_j == [1, 0, -1, -1] || b_j == [1, 1, 0, -1] || b_j == [1, 1, -1, 0] \n",
    "        \"Antagonistic\"\n",
    "    elseif b_j == [0, -1, 1, 1] || b_j == [-1, 0, 1, 1] || b_j == [-1, -1, 0, 1] || b_j == [-1, -1, 1, 0]\n",
    "        \"Antagonistic\"\n",
    "    elseif b_j == [0, -1, 0, 1] || b_j == [-1, 0, 1, 0] || b_j == [1, 0, -1, 0] || b_j == [0, -1, 0, 1]\n",
    "        \"Antagonistic\"\n",
    "    elseif b_j == [0, -1, 1, 0] || b_j == [-1, 0, 0, 1] || b_j == [1, 0, 0, -1] || b_j == [0, 1, -1, 0]\n",
    "        \"Antagonistic\"\n",
    "    elseif sum(abs(b_j)) == 1\n",
    "        \"Local\"\n",
    "    elseif b_j == [1, 1, 1, 1] || b_j == [-1, -1, -1, -1] \n",
    "        \"Integrated\"\n",
    "    elseif b_j == [0, 1, 1, 1] || b_j == [1, 0, 1, 1] || b_j == [1, 1, 0, 1] || b_j == [1, 1, 1, 0]\n",
    "        \"Integrated\"\n",
    "    elseif b_j == [0, -1, -1, -1] || b_j == [-1, 0, -1, -1] || b_j == [-1, -1, 0, -1] || b_j == [-1, -1, -1, 0]\n",
    "        \"Integrated\"\n",
    "    elseif b_j == [0, 1, 0, 1] || b_j == [1, 0, 1, 0] || b_j == [0, 1, 1, 0] || b_j == [1, 0, 0, 1]\n",
    "        \"Integrated\"\n",
    "    elseif b_j == [0, -1, 0, -1] || b_j == [-1, 0, -1, 0] || b_j == [0, -1, -1, 0] || b_j == [-1, 0, 0, -1]\n",
    "        \"Integrated\"\n",
    "    elseif b_j == [0, 0, 0, 0]\n",
    "        \"Neutral\"\n",
    "    else\n",
    "        \"Other\"\n",
    "    end\n",
    "end\n",
    "function classifyBj(b::Array{Int64, 2})\n",
    "    m = size(b)[2]\n",
    "    [classifyBj(b[:,j]) for j in 1:m]\n",
    "end\n",
    "function countBclass(b_class)\n",
    "    counter_b = counter(b_class)\n",
    "    DataFrame( class = [\"Modular\", \"Antagonistic\", \"Local\", \"Integrated\", \"Neutral\", \"Other\"],\n",
    "               count = [counter_b[i] for i in [\"Modular\", \"Antagonistic\", \"Local\", \"Integrated\", \"Neutral\", \"Other\"]])\n",
    "end"
   ]
  },
  {
   "cell_type": "code",
   "execution_count": null,
   "metadata": {
    "collapsed": true
   },
   "outputs": [],
   "source": [
    "function run_pop(ind::Individual,\n",
    "                 n_e::Int64,\n",
    "                 selectionRegimes::Array{String,1},\n",
    "                 regimeGenerations::Array{Int64, 1};\n",
    "                 theta::Array{Float64, 1} = zeros(Float64, ind.p), \n",
    "                 delta_theta::Array{Float64, 1} = zeros(Float64, ind.p), \n",
    "                 omega::Array{Float64, 2} = diagm(ones(Float64, ind.p)), \n",
    "                 thin = 100)\n",
    "    \n",
    "    pop = Population(n_e, ind, 0)\n",
    "    RandomPop!(pop)\n",
    "\n",
    "    changeSurface!(pop, theta, omega)\n",
    "    fitness!(pop)\n",
    "    \n",
    "    run_pop(pop, selectionRegimes, regimeGenerations; \n",
    "            theta = theta, delta_theta = delta_theta, omega = omega, thin = thin)\n",
    "end\n",
    "\n",
    "function run_pop(pop::Population,\n",
    "                 selectionRegimes::Array{String,1},\n",
    "                 regimeGenerations::Array{Int64, 1};\n",
    "                 theta::Array{Float64, 1} = pop.surface.μ, \n",
    "                 delta_theta::Array{Float64, 1} = zeros(Float64, ind.p), \n",
    "                 omega::Array{Float64, 2} = pop.surface.Σ,\n",
    "                 thin = 100)\n",
    "    \n",
    "    changeSurface!(pop, theta, omega)\n",
    "    fitness!(pop)\n",
    "    \n",
    "    holder_pop = copy(pop)\n",
    "    sires = zeros(Int64, pop.n)\n",
    "    dames = zeros(Int64, pop.n)\n",
    "    d_uni = DiscreteUniform(0, 1)\n",
    "    alele_1 = zeros(Int64, Int64(pop.base_ind.m/2))\n",
    "    alele_2 = zeros(Int64, Int64(pop.base_ind.m/2))\n",
    "    \n",
    "    omega_var = omega[1, 1]\n",
    "\n",
    "    regimes = [i for i in zip(selectionRegimes, regimeGenerations)]\n",
    "    \n",
    "    for current_regime in regimes\n",
    "        @showprogress 2 current_regime[1] for i = 1:current_regime[2]\n",
    "            if(i % thin == 0) \n",
    "                moments!(pop)\n",
    "            end\n",
    "            if(startswith(normalize_string(strip(current_regime[1]), casefold = true), \"dire\"))\n",
    "                theta += delta_theta\n",
    "                changeSurface!(pop, theta, omega)\n",
    "            end\n",
    "            next_generation!(pop, holder_pop, sires, dames, d_uni, alele_1, alele_2, \n",
    "            selective = normalize_string(strip(current_regime[1]), casefold = true) != \"drift\")\n",
    "        end\n",
    "    end\n",
    "    pop\n",
    "end"
   ]
  },
  {
   "cell_type": "code",
   "execution_count": null,
   "metadata": {
    "collapsed": false,
    "deletable": true,
    "editable": true
   },
   "outputs": [],
   "source": [
    "function all_plots(pop::Population, file)\n",
    "    plot_corr = plotCorrelations(pop, 2000)\n",
    "    plot_traits = plotTraits(pop, 2000)\n",
    "    plot_pleio = plotPleitropy(pop, 2000)\n",
    "    draw(PDF(\"./figures/$file\", 6inch, 6inch), vstack(plot_corr, plot_traits, plot_pleio))\n",
    "end"
   ]
  },
  {
   "cell_type": "code",
   "execution_count": null,
   "metadata": {
    "collapsed": true
   },
   "outputs": [],
   "source": [
    "n_e  = 5000\n",
    "m    = 100\n",
    "p    = 4\n",
    "mu   = 0.0005\n",
    "mu_b = 0.0001\n",
    "mu_σ = 0.02\n",
    "\n",
    "global random_ind = Individual(m, p, mu, mu_b, mu_σ)\n",
    "\n",
    "delta_theta_speed = 40/1000\n",
    "delta_theta = delta_theta_speed * [ones(Float64, Int64(random_ind.p/2)); -1*ones(Float64, Int64(random_ind.p/2))]\n",
    "delta_theta_1 = delta_theta_speed * [ones(Float64, Int64(random_ind.p/2)); zeros(Float64, Int64(random_ind.p/2))]\n",
    "delta_theta_2 = delta_theta_speed * [zeros(Float64, Int64(random_ind.p/2)); -1 * ones(Float64, Int64(random_ind.p/2))]\n",
    "\n",
    "omega_var = 2\n",
    "omega = twoModuleMatrix(omega_var*ones(Float64, random_ind.p), 0.8, 0.8)"
   ]
  },
  {
   "cell_type": "code",
   "execution_count": null,
   "metadata": {
    "collapsed": false,
    "deletable": true,
    "editable": true,
    "scrolled": true
   },
   "outputs": [],
   "source": [
    "corridor_pop = run_pop(random_ind, n_e, [\"Drift\", \"Stab\", \"Direct\", \"Stab\"], [2000, 2000, 2000, 1000]; \n",
    "                     delta_theta = delta_theta_1, omega = omega, thin = 1)\n",
    "#divergent_pop = run_pop(random_ind, n_e, [\"Drift\", \"Stab\", \"Direct\", \"Stab\"], [2000, 2000, 2000, 1000]; \n",
    "#                     delta_theta = delta_theta, omega = omega, thin = 1)\n",
    "#random_pop = run_pop(random_pop, [\"Stab\"], [1000]; \n",
    "#                     delta_theta = delta_theta_2, omega = omega, thin = 1)\n",
    "#random_pop = run_pop(random_pop, [\"Direct\"], [1000]; \n",
    "#                     delta_theta = delta_theta_1, omega = omega, thin = 1)\n",
    "#random_pop = run_pop(random_pop, [\"Direct\"], [1000]; \n",
    "#                     delta_theta = delta_theta_2, omega = omega, thin = 1)"
   ]
  },
  {
   "cell_type": "code",
   "execution_count": null,
   "metadata": {
    "collapsed": false,
    "deletable": true,
    "editable": true
   },
   "outputs": [],
   "source": [
    "all_plots(corridor_pop, \"corridor.pdf\")\n",
    "all_plots(divergent_pop, \"divergent.pdf\")"
   ]
  },
  {
   "cell_type": "code",
   "execution_count": null,
   "metadata": {
    "collapsed": false,
    "deletable": true,
    "editable": true,
    "scrolled": false
   },
   "outputs": [],
   "source": [
    "random_pop.moments[end][\"corrG\"]"
   ]
  },
  {
   "cell_type": "code",
   "execution_count": null,
   "metadata": {
    "collapsed": false,
    "deletable": true,
    "editable": true,
    "scrolled": false
   },
   "outputs": [],
   "source": [
    "plot_corr = plotCorrelations(divergent_pop, 2000)"
   ]
  },
  {
   "cell_type": "code",
   "execution_count": null,
   "metadata": {
    "collapsed": false,
    "deletable": true,
    "editable": true
   },
   "outputs": [],
   "source": [
    "plot_traits = plotTraits(random_pop, 2000)"
   ]
  },
  {
   "cell_type": "code",
   "execution_count": null,
   "metadata": {
    "collapsed": false,
    "deletable": true,
    "editable": true
   },
   "outputs": [],
   "source": [
    "plot_pleio = plotPleitropy(divergent_pop, 2000)"
   ]
  },
  {
   "cell_type": "code",
   "execution_count": null,
   "metadata": {
    "collapsed": true,
    "deletable": true,
    "editable": true
   },
   "outputs": [],
   "source": [
    "draw(PDF(\"./figures/plot_corridor.pdf\", 6inch, 6inch), vstack(plot_corr, plot_traits, plot_pleio))"
   ]
  },
  {
   "cell_type": "code",
   "execution_count": null,
   "metadata": {
    "collapsed": false,
    "deletable": true,
    "editable": true
   },
   "outputs": [],
   "source": [
    "b = random_pop.moments[5000][\"mean_b\"]\n",
    "clss = classifyBj(convert(Array{Int64, 2}, round(Int64, b)))\n",
    "\n",
    "round(Int64, b[:,find(clss .== \"Modular\")])"
   ]
  },
  {
   "cell_type": "code",
   "execution_count": null,
   "metadata": {
    "collapsed": false,
    "deletable": true,
    "editable": true
   },
   "outputs": [],
   "source": [
    "round(Int64, -0.6)"
   ]
  },
  {
   "cell_type": "code",
   "execution_count": null,
   "metadata": {
    "collapsed": false,
    "deletable": true,
    "editable": true
   },
   "outputs": [],
   "source": []
  }
 ],
 "metadata": {
  "kernelspec": {
   "display_name": "Julia 0.5.3-pre",
   "language": "julia",
   "name": "julia-0.5"
  },
  "language_info": {
   "file_extension": ".jl",
   "mimetype": "application/julia",
   "name": "julia",
   "version": "0.5.3"
  }
 },
 "nbformat": 4,
 "nbformat_minor": 0
}
