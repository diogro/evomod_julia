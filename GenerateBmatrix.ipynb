{
 "cells": [
  {
   "cell_type": "code",
   "execution_count": null,
   "metadata": {
    "collapsed": true
   },
   "outputs": [],
   "source": [
    "using Distributions"
   ]
  },
  {
   "cell_type": "code",
   "execution_count": null,
   "metadata": {
    "collapsed": false
   },
   "outputs": [],
   "source": [
    "function random_corr(num_traits::Int64, ke = 10.0^-3)\n",
    "    random_corr = zeros(Float64, num_traits, num_traits)\n",
    "    b = zeros(Float64, num_traits, num_traits)\n",
    "    for i = 1:num_traits, j = 1:num_traits\n",
    "        if(i >= j)\n",
    "            b[i, j] = 1\n",
    "        end\n",
    "    end\n",
    "    random_corr[2:num_traits, 1] = rand(Uniform(-1, 1), num_traits-1)\n",
    "    b[2:num_traits, 1] = random_corr[2:num_traits, 1]\n",
    "    for i in 2:num_traits\n",
    "        b[i, 2:i] = sqrt(1 - random_corr[i, 1]^2)\n",
    "    end\n",
    "\n",
    "    for (i in 3:num_traits)\n",
    "        for (j in 2:(i-1))\n",
    "            b1 = dot(vec(b[j, 1:(j-1)]), vec(b[i, 1:(j-1)]))\n",
    "            b2 = b[j, j] * b[i, j]\n",
    "            z = b1 + b2\n",
    "            y = b1 - b2\n",
    "             if (b2 < ke)\n",
    "                 random_corr[i, j] = b1\n",
    "             else\n",
    "                 random_corr[i, j] = y + (z - y) * rand(Uniform(0, 1))\n",
    "             end\n",
    "             cosinv = (random_corr[i, j] - b1)/b2\n",
    "             if (isfinite(cosinv))\n",
    "                 if (cosinv > 1)\n",
    "                     b[i, (j+1):num_traits] = 0\n",
    "                 elseif (cosinv < -1)\n",
    "                     b[i, j] = -b[i, j]\n",
    "                     b[i, (j+1):num_traits] = 0\n",
    "                 else \n",
    "                     b[i, j] = b[i, j]*cosinv\n",
    "                     sinTheta = sqrt(1 - cosinv^2)\n",
    "                     b[i, (j+1):num_traits] = b[i, (j+1):num_traits]*sinTheta\n",
    "                 end\n",
    "             end\n",
    "        end\n",
    "    end\n",
    "    random_corr = random_corr + random_corr' + diagm(ones(Float64, num_traits))\n",
    "    perm = shuffle(collect(1:num_traits))\n",
    "    random_corr[perm,:][:,perm]\n",
    "end\n",
    "\n",
    "function pcasimilarity(cov_x::Array{Float64, 2}, cov_y::Array{Float64, 2})\n",
    "    eg_x = eig(cov_x)\n",
    "    eg_y = eig(cov_y)\n",
    "    eg_x_values = eg_x[1]\n",
    "    eg_y_values = eg_y[1]\n",
    "    eg_x_vectors = eg_x[2]\n",
    "    eg_y_vectors = eg_y[2]\n",
    "\n",
    "    total_var = dot(vec(eg_x_values), vec(eg_y_values))\n",
    "\n",
    "    sum((eg_x_values * eg_y_values') .* (eg_x_vectors' * eg_y_vectors)^2)/total_var\n",
    "end\n",
    "\n",
    "function matrix_distance(cov_x, cov_y)\n",
    "    sum(abs(cov_x - cov_y))\n",
    "end\n",
    "\n",
    "\n",
    "function mutation_b!(b_matrix, bin_b)\n",
    "    mutation_b = rand(bin_b) + 1\n",
    "    d_uni_p = DiscreteUniform(1, size(target_matrix, 1))\n",
    "    d_uni_m = DiscreteUniform(1, size(target_matrix, 2))\n",
    "    for k = range(1, mutation_b)\n",
    "        i = rand(d_uni_p)\n",
    "        j = rand(d_uni_m)\n",
    "        b_matrix[i,j] = b_matrix[i, j] == 1 ? 0 : 1\n",
    "    end\n",
    "end\n",
    "\n",
    "function project!(b_matrix, b_projection)\n",
    "    copy!(b_projection, b_matrix * b_matrix')\n",
    "    copy!(b_projection, b_projection ./ sqrt(diag(b_projection) * diag(b_projection)'))\n",
    "end"
   ]
  },
  {
   "cell_type": "code",
   "execution_count": null,
   "metadata": {
    "collapsed": false
   },
   "outputs": [],
   "source": [
    "#target_matrix = diagm(5*ones(Float64, 10))\n",
    "target_matrix  = abs(random_corr(5))"
   ]
  },
  {
   "cell_type": "code",
   "execution_count": null,
   "metadata": {
    "collapsed": false
   },
   "outputs": [],
   "source": [
    "b_2_dims = 100\n",
    "p = size(target_matrix, 1)\n",
    "\n",
    "t_init = 0.001\n",
    "t_end = 0.0000001\n",
    "t_steps = 1000000\n",
    "n_monte = 100000 * p * b_2_dims\n",
    "\n",
    "b_matrix = rand(Bernoulli(), size(target_matrix, 1), b_2_dims)\n",
    "\n",
    "b_projection = ones(Float64, p, p)\n",
    "\n",
    "d_uni_p = DiscreteUniform(1, size(target_matrix, 1))\n",
    "d_uni_m = DiscreteUniform(1, size(target_matrix, 2))\n",
    "uni_0_1 = Uniform(0, 1)"
   ]
  },
  {
   "cell_type": "code",
   "execution_count": null,
   "metadata": {
    "collapsed": false
   },
   "outputs": [],
   "source": [
    "while(matrix_distance(target_matrix, b_projection) > 2)\n",
    "    for(t in linspace(t_init, t_end, t_steps))\n",
    "        project!(b_matrix, b_projection)\n",
    "        dist_before = matrix_distance(target_matrix, b_projection)\n",
    "\n",
    "        i = rand(d_uni_p)\n",
    "        j = rand(d_uni_m)\n",
    "        b_matrix[i, j] = b_matrix[i, j] == 1 ? 0 : 1\n",
    "\n",
    "        project!(b_matrix, b_projection)\n",
    "        dist_after = matrix_distance(target_matrix, b_projection)\n",
    "\n",
    "        if(dist_after < dist_before)\n",
    "            #println(dist_after)\n",
    "        elseif(exp((dist_before - dist_after)/t) < rand(uni_0_1))\n",
    "            #println(dist_after)\n",
    "        else\n",
    "            b_matrix[i, j] = b_matrix[i, j] == 1 ? 0 : 1\n",
    "        end\n",
    "    end\n",
    "end"
   ]
  },
  {
   "cell_type": "code",
   "execution_count": null,
   "metadata": {
    "collapsed": false
   },
   "outputs": [],
   "source": [
    "matrix_distance(target_matrix, b_projection)"
   ]
  },
  {
   "cell_type": "code",
   "execution_count": null,
   "metadata": {
    "collapsed": false
   },
   "outputs": [],
   "source": [
    "b_projection"
   ]
  }
 ],
 "metadata": {
  "kernelspec": {
   "display_name": "Julia 0.5.0-dev",
   "language": "julia",
   "name": "julia-0.5"
  },
  "language_info": {
   "file_extension": ".jl",
   "mimetype": "application/julia",
   "name": "julia",
   "version": "0.5.0"
  }
 },
 "nbformat": 4,
 "nbformat_minor": 0
}
