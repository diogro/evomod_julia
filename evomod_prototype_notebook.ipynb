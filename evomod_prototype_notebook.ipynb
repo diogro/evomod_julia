{
 "cells": [
  {
   "cell_type": "code",
   "execution_count": 1,
   "metadata": {
    "collapsed": false
   },
   "outputs": [],
   "source": [
    "using Distributions\n",
    "using ProfileView\n",
    "using StatsFuns"
   ]
  },
  {
   "cell_type": "code",
   "execution_count": 2,
   "metadata": {
    "collapsed": false
   },
   "outputs": [],
   "source": [
    "type Individual\n",
    "    m::Int64\n",
    "    p::Int64\n",
    "    v_e::Float64\n",
    "    mu::Float64\n",
    "    mu_b::Float64\n",
    "    mu_sigma::Float64\n",
    "    y::Array{Float64, 1}\n",
    "    b::Array{Int64, 2}\n",
    "    x::Array{Float64, 1}\n",
    "    z::Array{Float64, 1}\n",
    "    \n",
    "    Individual(m, p, v_e, mu, mu_b, mu_sigma) = new(2*m, p, v_e, mu, mu_b, mu_sigma)\n",
    "end  \n",
    "\n",
    "type Population\n",
    "    n::Int64\n",
    "    base_ind::Individual\n",
    "    generation::Int64\n",
    "    fitness::Array{Float64, 1}\n",
    "    surface::Distributions.MvNormal{PDMats.PDMat,Array{Float64,1}}\n",
    "    pop::Array{Individual, 1}\n",
    "    Population(n, base_ind, generation) = new(n, base_ind, generation)\n",
    "end"
   ]
  },
  {
   "cell_type": "code",
   "execution_count": 3,
   "metadata": {
    "collapsed": false
   },
   "outputs": [
    {
     "data": {
      "text/plain": [
       "moments (generic function with 1 method)"
      ]
     },
     "execution_count": 3,
     "metadata": {},
     "output_type": "execute_result"
    }
   ],
   "source": [
    "function Population(n::Int, ind::Individual, pop_array::Array{Individual, 1})\n",
    "    new_pop = Population(n, ind, 0)\n",
    "    new_pop.generation = 0\n",
    "    new_pop.pop = pop_array\n",
    "    new_pop\n",
    "end\n",
    "\n",
    "function RandomInd!(ind::Individual, y_mean::Float64 = 0.0, g_sigma::Float64 = ind.mu_sigma)\n",
    "    ind.y = rand(Normal(y_mean, g_sigma), ind.m)\n",
    "    ind.b = rand(Bernoulli(), ind.p, ind.m)\n",
    "    ind.x = ind.b * ind.y\n",
    "    ind.z = ind.x + rand(Normal(0, ind.v_e), ind.p)\n",
    "end\n",
    "\n",
    "function RandomInd(ind::Individual, y_mean::Float64 = 0.0, g_sigma::Float64 = ind.mu_sigma)\n",
    "    new_ind = Individual(ind.m/2, ind.p, ind.v_e, ind.mu, ind.mu_b, ind.mu_sigma)\n",
    "    RandomInd!(new_ind, y_mean, g_sigma)\n",
    "    new_ind\n",
    "end\n",
    "\n",
    "function RandomPop!(pop::Population, y_mean::Float64 = 0.0, g_sigma::Float64 = ind.mu_sigma)\n",
    "    pop.pop = Array(Individual, pop.n)\n",
    "    pop.generation = 0\n",
    "    for i = 1:pop.n\n",
    "        pop.pop[i] = RandomInd(pop.base_ind, y_mean, g_sigma)\n",
    "    end\n",
    "    pop.fitness = zeros(Float64, pop.n)\n",
    "end\n",
    "\n",
    "\n",
    "import Base.getindex\n",
    "import Base.copy\n",
    "\n",
    "function getindex(pop::Population, i::Integer)\n",
    "    getindex(pop.pop, i)\n",
    "end\n",
    "\n",
    "function getindex(pop::Population, s::UnitRange)\n",
    "    Population(length(s), pop.base_ind, getindex(pop.pop, s))\n",
    "end\n",
    "\n",
    "function append!(pop::Population, ind::Individual)\n",
    "    pop.pop = [pop.pop; ind]\n",
    "    pop.n = length(pop.pop)\n",
    "end\n",
    "\n",
    "function append!(pop1::Population, pop2::Population)\n",
    "    # COMPARE BASE IND!\n",
    "    pop1.pop = [pop1.pop; pop2.pop]\n",
    "    pop.n = length(pop1.pop)\n",
    "end\n",
    "\n",
    "function join(pop1::Population, pop2::Population)\n",
    "    # TODO: COMPARE BASE IND!\n",
    "    new_pop = Population(pop1.n + pop2.n, pop1.base_ind)\n",
    "    new_pop.pop = [pop1.pop; pop2.pop]\n",
    "    new_pop\n",
    "end\n",
    "\n",
    "function copy!(source::Population, sink::Population)\n",
    "    sink.n = source.n\n",
    "    sink.base_ind = source.base_ind\n",
    "    sink.generation = source.generation\n",
    "    sink.fitness = source.fitness\n",
    "    sink.surface = source.surface\n",
    "    sink.pop = source.pop\n",
    "end\n",
    "\n",
    "function copy(source::Population)\n",
    "    new_pop = Population(source.n, source.base_ind, source.generation)\n",
    "    copy!(source, new_pop)\n",
    "    new_pop\n",
    "end\n",
    "    \n",
    "function mutation!(ind::Individual, bin_y, bin_b)\n",
    "    mutation_y = rand(bin_y)\n",
    "    if(mutation_y > 0)\n",
    "        d_uni_y = DiscreteUniform(1, ind.m)\n",
    "        norm_sigma = Normal(0, ind.mu_sigma)\n",
    "        for k = range(1, mutation_y)\n",
    "            i = rand(d_uni_y)\n",
    "            ind.y[i] = ind.y[i] + rand(norm_sigma)\n",
    "        end\n",
    "    end\n",
    "    mutation_b = rand(bin_b)\n",
    "    if(mutation_b > 0)\n",
    "        d_uni_p = DiscreteUniform(1, ind.p)\n",
    "        d_uni_m = DiscreteUniform(1, ind.m)\n",
    "        for k = range(1, mutation_b)\n",
    "            i = rand(d_uni_p)\n",
    "            j = rand(d_uni_m)\n",
    "            ind.b[i,j] = ind.b[i, j] == 1 ? 0 : 1\n",
    "        end\n",
    "    end\n",
    "end\n",
    "\n",
    "function mutation!(pop::Population)\n",
    "    bin_y = Binomial(ind.m, ind.mu)\n",
    "    bin_b = Binomial(ind.m * ind.p, ind.mu_b)\n",
    "    for k = 1:pop.n\n",
    "        mutation!(pop.pop[k], bin_y, bin_b)\n",
    "    end\n",
    "end\n",
    "\n",
    "function log_fitness(ind::Individual, mv_norm)\n",
    "    ind_fitness = logpdf(mv_norm, ind.z)\n",
    "    isfinite(ind_fitness) ? log(nextfloat(0.0)) : ind_fitness\n",
    "end\n",
    "\n",
    "function fitness!(pop::Population)\n",
    "    logfit = Float64[logpdf(pop.surface, pop[i].z) for i in 1:pop.n]\n",
    "    pop.fitness = exp(logfit - logsumexp(logfit))\n",
    "end\n",
    "\n",
    "function changeSurface!(pop::Population, theta::Array{Float64, 1}, omega::Array{Float64, 2})\n",
    "    pop.surface = MvNormal(theta, omega)\n",
    "end\n",
    "\n",
    "function twoModuleMatrix(vars::Array{Float64, 1}, cor1, cor2)\n",
    "    n = size(vars)[1]\n",
    "    n_1 = Int(floor(n/2))\n",
    "    module_1 = [ones(Float64, n_1); zeros(Float64, n - n_1)]\n",
    "    module_2 = [zeros(Float64, n_1); ones(Float64, n - n_1)]\n",
    "    omega = (module_1 * module_1') * cor1 + module_2 * module_2' * cor2\n",
    "    omega * 0.8\n",
    "    [omega[i, i] = 1 for i = 1:n]\n",
    "    omega .* (sqrt(vars) * sqrt(vars)')\n",
    "end\n",
    "\n",
    "function cross!(ind_1::Individual, ind_2::Individual, new_ind::Individual,\n",
    "                d_uni, norm_e, alele_1::Array{Int64, 1}, alele_2::Array{Int64, 1})\n",
    "    rand!(d_uni, alele_1)\n",
    "    rand!(d_uni, alele_2)\n",
    "    for locus = range(2, 2, 5)\n",
    "        @inbounds new_ind.y[   locus - 1] = ind_1.y[   (locus - 1) + alele_1[convert(Int64, locus/2)]]\n",
    "        @inbounds new_ind.y[   locus]     = ind_2.y[   (locus - 1) + alele_2[convert(Int64, locus/2)]]\n",
    "        @inbounds new_ind.b[:, locus - 1] = ind_1.b[:, (locus - 1) + alele_1[convert(Int64, locus/2)]]\n",
    "        @inbounds new_ind.b[:, locus]     = ind_2.b[:, (locus - 1) + alele_2[convert(Int64, locus/2)]]\n",
    "    end\n",
    "    new_ind.x = new_ind.b * new_ind.y\n",
    "    new_ind.z = new_ind.x + rand(norm_e, new_ind.p)\n",
    "end\n",
    "\n",
    "function choose_mates!(pop::Population, mates::Array{Int64, 1})\n",
    "    matings = rand(Multinomial(pop.n, pop.fitness), 1)\n",
    "    l = 1\n",
    "    for k = 1:pop.n\n",
    "        if(matings[k] > 0)\n",
    "            for(i = 1:matings[k])\n",
    "                mates[l] = k\n",
    "                l = l + 1\n",
    "            end\n",
    "        end\n",
    "    end\n",
    "    round(Int64, shuffle!(mates))\n",
    "end\n",
    "\n",
    "function next_generation!(pop::Population, holder_pop::Population, sires, dames, d_uni, norm_e, alele_1, alele_2; selective = true)\n",
    "    holder_pop.surface = pop.surface\n",
    "    if (selective)\n",
    "        fitness!(pop)\n",
    "    else\n",
    "        fill!(pop.fitness, 1./pop.n)\n",
    "    end\n",
    "    holder_pop.fitness = pop.fitness\n",
    "    mutation!(pop)\n",
    "    choose_mates!(pop, sires)\n",
    "    choose_mates!(pop, dames)\n",
    "    for i in 1:pop.n\n",
    "        cross!(pop[sires[i]], pop[dames[i]], holder_pop.pop[i], d_uni, norm_e, alele_1, alele_2)\n",
    "    end\n",
    "    holder_pop.generation = pop.generation + 1\n",
    "    copy!(holder_pop, pop)\n",
    "end \n",
    "\n",
    "function moments(pop::Population)\n",
    "    ys = convert(Array{Float64, 2}, reshape([ind.y[i] for ind in pop.pop, i in 1:pop.base_ind.m], pop.n, pop.base_ind.m))\n",
    "    xs = convert(Array{Float64, 2}, reshape([ind.x[i] for ind in pop.pop, i in 1:pop.base_ind.p], pop.n, pop.base_ind.p))\n",
    "    zs = convert(Array{Float64, 2}, reshape([ind.z[i] for ind in pop.pop, i in 1:pop.base_ind.p], pop.n, pop.base_ind.p))\n",
    "    mean_b = zeros(Float64, pop.base_ind.p, pop.base_ind.m)\n",
    "    for i in 1:pop.n\n",
    "        mean_b = mean_b + pop[i].b\n",
    "    end\n",
    "    mean_y = squeeze(mean(ys, 1), 1)\n",
    "    mean_x = squeeze(mean(xs, 1), 1)\n",
    "    mean_z = squeeze(mean(zs, 1), 1)\n",
    "    mean_b = mean_b / pop.n\n",
    "\n",
    "    P = cov(zs)\n",
    "    G = cov(xs)\n",
    "    h2 = diag(G)./diag(P)\n",
    "    corrG = cor(xs)\n",
    "    corrP = cor(zs)\n",
    "\n",
    "    Dict([(\"mean_y\", mean_y), \n",
    "          (\"mean_b\", mean_b), \n",
    "          (\"mean_x\", mean_x),\n",
    "          (\"mean_z\", mean_z), \n",
    "          (\"P\", P), \n",
    "          (\"G\", G), \n",
    "          (\"h2\", h2), \n",
    "          (\"corrG\", corrG),\n",
    "          (\"corrP\", corrP)])\n",
    "end"
   ]
  },
  {
   "cell_type": "code",
   "execution_count": 4,
   "metadata": {
    "collapsed": false
   },
   "outputs": [
    {
     "data": {
      "text/plain": [
       "run_pop (generic function with 2 methods)"
      ]
     },
     "execution_count": 4,
     "metadata": {},
     "output_type": "execute_result"
    }
   ],
   "source": [
    "function run_pop(gen_drift, gen_stab, gen_direc, thin = 100)\n",
    "    global ind = Individual(500, 8, 0.8, 0.005, 0.001, 0.2)\n",
    "    pop = Population(2500, ind, 0)\n",
    "    RandomPop!(pop)\n",
    "    theta = zeros(Float64, ind.p)\n",
    "    omega_var = 30\n",
    "\n",
    "    omega = twoModuleMatrix(omega_var*ones(Float64, ind.p), 0, 0)\n",
    "    changeSurface!(pop, theta, omega)\n",
    "    fitness!(pop)\n",
    "    holder_pop = copy(pop)\n",
    "    \n",
    "    delta_theta_speed = 0.01\n",
    "    delta_theta = delta_theta_speed * [ones(Float64, Int64(ind.p/2)); -1 * ones(Float64, Int64(ind.p/2))]\n",
    "   \n",
    "    \n",
    "    sires = zeros(Int64, pop.n)\n",
    "    dames = zeros(Int64, pop.n)\n",
    "    d_uni = DiscreteUniform(0, 1)\n",
    "    norm_e  = Normal(0, pop.base_ind.v_e)\n",
    "    alele_1 = zeros(Int64, Int64(pop.base_ind.m/2))\n",
    "    alele_2 = zeros(Int64, Int64(pop.base_ind.m/2))\n",
    "    \n",
    "    moments_array = []\n",
    "    \n",
    "    for i = 1:gen_drift\n",
    "        if(i % thin == 0) \n",
    "            moments_array = [moments_array; moments(pop)]\n",
    "            println(\"Drift Generation :\", i)\n",
    "        end\n",
    "        next_generation!(pop, holder_pop, sires, dames, d_uni, norm_e, alele_1, alele_2, selective = false)\n",
    "    end\n",
    "    \n",
    "    for i = 1:gen_stab\n",
    "        if(i % thin == 0) \n",
    "            moments_array = [moments_array; moments(pop)]\n",
    "            println(\"Stabilizing Selective Generation :\", i)\n",
    "        end\n",
    "        next_generation!(pop, holder_pop, sires, dames, d_uni, norm_e, alele_1, alele_2, selective = true)\n",
    "    end\n",
    "    \n",
    "    omega = twoModuleMatrix(omega_var*ones(Float64, ind.p), 0.8, 0.8)\n",
    "    \n",
    "    for i = 1:gen_direc\n",
    "        if(i % thin == 0) \n",
    "            moments_array = [moments_array; moments(pop)]\n",
    "            println(\"Directional Selective Generation :\", i)\n",
    "        end\n",
    "        theta += delta_theta\n",
    "        changeSurface!(pop, theta, omega)\n",
    "        next_generation!(pop, holder_pop, sires, dames, d_uni, norm_e, alele_1, alele_2, selective = true)\n",
    "    end\n",
    "    Dict([(\"moments\", moments_array),\n",
    "          (\"pop\"    , pop)])\n",
    "end"
   ]
  },
  {
   "cell_type": "code",
   "execution_count": 5,
   "metadata": {
    "collapsed": false,
    "scrolled": true
   },
   "outputs": [
    {
     "data": {
      "text/plain": [
       "0"
      ]
     },
     "execution_count": 5,
     "metadata": {},
     "output_type": "execute_result"
    }
   ],
   "source": [
    "pop_moments = run_pop(1, 1, 1)\n",
    "0"
   ]
  },
  {
   "cell_type": "code",
   "execution_count": null,
   "metadata": {
    "collapsed": false,
    "scrolled": true
   },
   "outputs": [
    {
     "name": "stdout",
     "output_type": "stream",
     "text": [
      "Drift Generation :100\n",
      "Drift Generation :200\n",
      "Drift Generation :300\n",
      "Drift Generation :400\n",
      "Drift Generation :500\n",
      "Drift Generation :600\n",
      "Drift Generation :700\n",
      "Drift Generation :800\n",
      "Drift Generation :900\n",
      "Drift Generation :1000\n",
      "Stabilizing Selective Generation :100\n",
      "Stabilizing Selective Generation :200"
     ]
    }
   ],
   "source": [
    "@time pop_moments = run_pop(1000, 1000, 5000)\n",
    "0"
   ]
  },
  {
   "cell_type": "code",
   "execution_count": null,
   "metadata": {
    "collapsed": false,
    "scrolled": true
   },
   "outputs": [],
   "source": [
    "pop_moments[\"moments\"][12][\"mean_z\"]"
   ]
  },
  {
   "cell_type": "code",
   "execution_count": null,
   "metadata": {
    "collapsed": false
   },
   "outputs": [],
   "source": [
    "pop_moments[\"pop\"].surface"
   ]
  }
 ],
 "metadata": {
  "kernelspec": {
   "display_name": "Julia 0.5.0-dev",
   "language": "julia",
   "name": "julia-0.5"
  },
  "language_info": {
   "file_extension": ".jl",
   "mimetype": "application/julia",
   "name": "julia",
   "version": "0.5.0"
  }
 },
 "nbformat": 4,
 "nbformat_minor": 0
}
