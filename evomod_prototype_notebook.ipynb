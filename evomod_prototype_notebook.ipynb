{
 "cells": [
  {
   "cell_type": "code",
   "execution_count": 1,
   "metadata": {
    "collapsed": false
   },
   "outputs": [],
   "source": [
    "using Distributions\n",
    "using ProfileView\n",
    "using StatsFuns\n",
    "using Gadfly\n",
    "using ProgressMeter\n",
    "using DataFrames"
   ]
  },
  {
   "cell_type": "code",
   "execution_count": 2,
   "metadata": {
    "collapsed": false
   },
   "outputs": [],
   "source": [
    "blas_set_num_threads(4)"
   ]
  },
  {
   "cell_type": "code",
   "execution_count": 3,
   "metadata": {
    "collapsed": false
   },
   "outputs": [],
   "source": [
    "type Individual\n",
    "    m::Int64\n",
    "    p::Int64\n",
    "    v_e::Float64\n",
    "    mu::Float64\n",
    "    mu_b::Float64\n",
    "    mu_sigma::Float64\n",
    "    y::Array{Float64, 1}\n",
    "    b::Array{Int64, 2}\n",
    "    x::Array{Float64, 1}\n",
    "    z::Array{Float64, 1}\n",
    "    \n",
    "    Individual(m, p, v_e, mu, mu_b, mu_sigma) = new(2*m, p, v_e, mu, mu_b, mu_sigma)\n",
    "end  \n",
    "\n",
    "type Population\n",
    "    n::Int64\n",
    "    base_ind::Individual\n",
    "    generation::Int64\n",
    "    fitness::Array{Float64, 1}\n",
    "    surface::Distributions.MvNormal{PDMats.PDMat,Array{Float64,1}}\n",
    "    pop::Array{Individual, 1}\n",
    "    moments::Array{Any, 1}\n",
    "    Population(n, base_ind, generation) = new(n, base_ind, generation)\n",
    "end"
   ]
  },
  {
   "cell_type": "code",
   "execution_count": 4,
   "metadata": {
    "collapsed": false
   },
   "outputs": [
    {
     "data": {
      "text/plain": [
       "moments (generic function with 1 method)"
      ]
     },
     "execution_count": 4,
     "metadata": {},
     "output_type": "execute_result"
    }
   ],
   "source": [
    "function Population(n::Int, ind::Individual, pop_array::Array{Individual, 1})\n",
    "    new_pop = Population(n, ind, 0)\n",
    "    new_pop.generation = 0\n",
    "    new_pop.pop = pop_array\n",
    "    new_pop.moments = []\n",
    "    new_pop\n",
    "end\n",
    "\n",
    "function RandomInd!(ind::Individual, y_mean::Float64 = 0.0, g_sigma::Float64 = ind.mu_sigma)\n",
    "    ind.y = rand(Normal(y_mean, g_sigma), ind.m)\n",
    "    ind.b = rand(Bernoulli(), ind.p, ind.m)\n",
    "    ind.x = ind.b * ind.y\n",
    "    ind.z = ind.x + rand(Normal(0, ind.v_e), ind.p)\n",
    "end\n",
    "\n",
    "function RandomInd(ind::Individual, y_mean::Float64 = 0.0, g_sigma::Float64 = ind.mu_sigma)\n",
    "    new_ind = Individual(ind.m/2, ind.p, ind.v_e, ind.mu, ind.mu_b, ind.mu_sigma)\n",
    "    RandomInd!(new_ind, y_mean, g_sigma)\n",
    "    new_ind\n",
    "end\n",
    "\n",
    "function RandomPop!(pop::Population, y_mean::Float64 = 0.0, g_sigma::Float64 = ind.mu_sigma)\n",
    "    pop.pop = Array(Individual, pop.n)\n",
    "    pop.generation = 0\n",
    "    for i = 1:pop.n\n",
    "        pop.pop[i] = RandomInd(pop.base_ind, y_mean, g_sigma)\n",
    "    end\n",
    "    pop.moments = []\n",
    "    pop.fitness = zeros(Float64, pop.n)\n",
    "end\n",
    "\n",
    "\n",
    "import Base.string\n",
    "function string(pop::Population)\n",
    "    return \"a Population with $(pop.n) individuals\"\n",
    "end\n",
    "\n",
    "import Base.print\n",
    "print(io::IO, pop::Population) = print(io, string(pop))\n",
    "\n",
    "import Base.show\n",
    "show(io::IO, pop::Population) = print(io, \"This is \", pop)\n",
    "\n",
    "\n",
    "\n",
    "import Base.getindex\n",
    "function getindex(pop::Population, i::Integer)\n",
    "    getindex(pop.pop, i)\n",
    "end\n",
    "\n",
    "function getindex(pop::Population, s::UnitRange)\n",
    "    Population(length(s), pop.base_ind, getindex(pop.pop, s))\n",
    "end\n",
    "\n",
    "function append!(pop::Population, ind::Individual)\n",
    "    pop.pop = [pop.pop; ind]\n",
    "    pop.n = length(pop.pop)\n",
    "end\n",
    "\n",
    "function append!(pop1::Population, pop2::Population)\n",
    "    # COMPARE BASE IND!\n",
    "    pop1.pop = [pop1.pop; pop2.pop]\n",
    "    pop.n = length(pop1.pop)\n",
    "end\n",
    "\n",
    "function join(pop1::Population, pop2::Population)\n",
    "    # TODO: COMPARE BASE IND!\n",
    "    new_pop = Population(pop1.n + pop2.n, pop1.base_ind)\n",
    "    new_pop.pop = [pop1.pop; pop2.pop]\n",
    "    new_pop\n",
    "end\n",
    "\n",
    "function copy!(source::Population, sink::Population)\n",
    "    sink.n = source.n\n",
    "    sink.base_ind = source.base_ind\n",
    "    sink.generation = source.generation\n",
    "    sink.fitness = source.fitness\n",
    "    sink.surface = source.surface\n",
    "    sink.pop = source.pop\n",
    "end\n",
    "\n",
    "import Base.copy\n",
    "function copy(source::Population)\n",
    "    new_pop = Population(source.n, source.base_ind, source.generation)\n",
    "    copy!(source, new_pop)\n",
    "    new_pop\n",
    "end\n",
    "    \n",
    "function mutation!(ind::Individual, bin_y, bin_b)\n",
    "    mutation_y = rand(bin_y)\n",
    "    if(mutation_y > 0)\n",
    "        d_uni_y = DiscreteUniform(1, ind.m)\n",
    "        norm_sigma = Normal(0, ind.mu_sigma)\n",
    "        for k = range(1, mutation_y)\n",
    "            i = rand(d_uni_y)\n",
    "            ind.y[i] = ind.y[i] + rand(norm_sigma)\n",
    "        end\n",
    "    end\n",
    "    mutation_b = rand(bin_b)\n",
    "    if(mutation_b > 0)\n",
    "        d_uni_p = DiscreteUniform(1, ind.p)\n",
    "        d_uni_m = DiscreteUniform(1, ind.m)\n",
    "        for k = range(1, mutation_b)\n",
    "            i = rand(d_uni_p)\n",
    "            j = rand(d_uni_m)\n",
    "            ind.b[i, j] = ind.b[i, j] == 1 ? 0 : 1\n",
    "        end\n",
    "    end\n",
    "end\n",
    "\n",
    "function mutation!(pop::Population)\n",
    "    bin_y = Binomial(ind.m, ind.mu)\n",
    "    bin_b = Binomial(ind.m * ind.p, ind.mu_b)\n",
    "    for k = 1:pop.n\n",
    "        mutation!(pop.pop[k], bin_y, bin_b)\n",
    "    end\n",
    "end\n",
    "\n",
    "function fitness!(pop::Population)\n",
    "    logfit = Float64[logpdf(pop.surface, pop[i].z) for i in 1:pop.n]\n",
    "    pop.fitness = exp(logfit - logsumexp(logfit))\n",
    "end\n",
    "\n",
    "function changeSurface!(pop::Population, theta::Array{Float64, 1}, omega::Array{Float64, 2})\n",
    "    pop.surface = MvNormal(theta, omega)\n",
    "end\n",
    "\n",
    "function twoModuleMatrix(vars::Array{Float64, 1}, cor1, cor2)\n",
    "    n = size(vars)[1]\n",
    "    n_1 = Int(floor(n/2))\n",
    "    module_1 = [ones(Float64, n_1); zeros(Float64, n - n_1)]\n",
    "    module_2 = [zeros(Float64, n_1); ones(Float64, n - n_1)]\n",
    "    omega = (module_1 * module_1') * cor1 + module_2 * module_2' * cor2\n",
    "    [omega[i, i] = 1 for i = 1:n]\n",
    "    omega .* (sqrt(vars) * sqrt(vars)')\n",
    "end\n",
    "\n",
    "function cross!(ind_1::Individual, ind_2::Individual, new_ind::Individual,\n",
    "                d_uni, norm_e, alele_1::Array{Int64, 1}, alele_2::Array{Int64, 1})\n",
    "    rand!(d_uni, alele_1)\n",
    "    rand!(d_uni, alele_2)\n",
    "    for locus = range(2, 2, convert(Int64, ind_1.m/2))\n",
    "        @inbounds new_ind.y[   locus - 1] = ind_1.y[   (locus - 1) + alele_1[convert(Int64, locus/2)]]\n",
    "        @inbounds new_ind.y[   locus]     = ind_2.y[   (locus - 1) + alele_2[convert(Int64, locus/2)]]\n",
    "        for(j in range(1, ind_1.p))\n",
    "            @inbounds new_ind.b[j, locus - 1] = ind_1.b[j, (locus - 1) + alele_1[convert(Int64, locus/2)]]\n",
    "            @inbounds new_ind.b[j, locus]     = ind_2.b[j, (locus - 1) + alele_2[convert(Int64, locus/2)]]\n",
    "        end\n",
    "    end\n",
    "    new_ind.x = new_ind.b * new_ind.y\n",
    "    new_ind.z = new_ind.x + rand(norm_e, new_ind.p)\n",
    "end\n",
    "\n",
    "function choose_mates!(pop::Population, mates::Array{Int64, 1})\n",
    "    matings = rand(Multinomial(pop.n, pop.fitness), 1)\n",
    "    l = 1\n",
    "    for k = 1:pop.n\n",
    "        if(matings[k] > 0)\n",
    "            for(i = 1:matings[k])\n",
    "                mates[l] = k\n",
    "                l = l + 1\n",
    "            end\n",
    "        end\n",
    "    end\n",
    "    round(Int64, shuffle!(mates))\n",
    "end\n",
    "\n",
    "function next_generation!(pop::Population, holder_pop::Population, sires, dames, d_uni, norm_e, alele_1, alele_2; selective = true)\n",
    "    holder_pop.surface = pop.surface\n",
    "    if (selective)\n",
    "        fitness!(pop)\n",
    "    else\n",
    "        fill!(pop.fitness, 1./pop.n)\n",
    "    end\n",
    "    holder_pop.fitness = pop.fitness\n",
    "    mutation!(pop)\n",
    "    choose_mates!(pop, sires)\n",
    "    choose_mates!(pop, dames)\n",
    "    for i in 1:pop.n\n",
    "        cross!(pop[sires[i]], pop[dames[i]], holder_pop.pop[i], d_uni, norm_e, alele_1, alele_2)\n",
    "    end\n",
    "    holder_pop.generation = pop.generation + 1\n",
    "    copy!(holder_pop, pop)\n",
    "end \n",
    "\n",
    "function moments!(pop::Population)\n",
    "    pop.moments = [pop.moments; moments(pop)]\n",
    "end\n",
    "\n",
    "function moments(pop::Population)\n",
    "    ys = convert(Array{Float64, 2}, reshape(Float64[ind.y[i] for ind in pop.pop, i in 1:pop.base_ind.m], pop.n, pop.base_ind.m))\n",
    "    xs = convert(Array{Float64, 2}, reshape(Float64[ind.x[i] for ind in pop.pop, i in 1:pop.base_ind.p], pop.n, pop.base_ind.p))\n",
    "    zs = convert(Array{Float64, 2}, reshape(Float64[ind.z[i] for ind in pop.pop, i in 1:pop.base_ind.p], pop.n, pop.base_ind.p))\n",
    "    mean_b = zeros(Float64, pop.base_ind.p, pop.base_ind.m)\n",
    "    for i in 1:pop.n\n",
    "        mean_b = mean_b + pop[i].b\n",
    "    end\n",
    "    mean_y = squeeze(mean(ys, 1), 1)\n",
    "    mean_x = squeeze(mean(xs, 1), 1)\n",
    "    mean_z = squeeze(mean(zs, 1), 1)\n",
    "    mean_b = mean_b / pop.n\n",
    "\n",
    "    P = cov(zs)\n",
    "    G = cov(xs)\n",
    "    h2 = diag(G) ./ diag(P)\n",
    "    corrG = cor(xs)\n",
    "    corrP = cor(zs)\n",
    "\n",
    "    Dict([(\"mean_y\", mean_y), \n",
    "          (\"mean_b\", mean_b), \n",
    "          (\"mean_x\", mean_x),\n",
    "          (\"mean_z\", mean_z),\n",
    "          (\"zs\", zs), \n",
    "          (\"theta\", pop.surface.μ),\n",
    "          (\"gen\", pop.generation),\n",
    "          (\"P\", P), \n",
    "          (\"G\", G), \n",
    "          (\"h2\", h2), \n",
    "          (\"corrG\", corrG),\n",
    "          (\"corrP\", corrP)])\n",
    "end"
   ]
  },
  {
   "cell_type": "code",
   "execution_count": 5,
   "metadata": {
    "collapsed": false
   },
   "outputs": [
    {
     "data": {
      "text/plain": [
       "plotSurfacePop (generic function with 1 method)"
      ]
     },
     "execution_count": 5,
     "metadata": {},
     "output_type": "execute_result"
    }
   ],
   "source": [
    "function plotSurfacePop(pop::Population; gen = length(pop.moments))\n",
    "    zs = pop.moments[gen][\"zs\"] \n",
    "    theta = pop.moments[gen][\"theta\"] \n",
    "    zs_eig = (eig(pop.surface.Σ.mat)[2][:, end-1:end]' * zs')'\n",
    "\n",
    "    zs_df = DataFrame(x = zs_eig[:,1], y = zs_eig[:,2], fit = pop.fitness)\n",
    "    sort!(zs_df,  cols = [:fit])\n",
    "\n",
    "    s_theta = eig(pop.surface.Σ.mat)[2][:, end-1:end]' * theta\n",
    "    s_omega = diagm(eig(pop.surface.Σ.mat)[1])[end-1:end,end-1:end]\n",
    "\n",
    "    limits_x = (reduce(min, [s_theta[1] - 2*sqrt(s_omega[1, 1]); zs_eig[:,1]]),\n",
    "                reduce(max, [s_theta[1] + 2*sqrt(s_omega[1, 1]); zs_eig[:,1]]))\n",
    "    limits_y = (reduce(min, [s_theta[2] - 2*sqrt(s_omega[2, 2]); zs_eig[:,2]]),\n",
    "                reduce(max, [s_theta[2] + 2*sqrt(s_omega[2, 2]); zs_eig[:,2]]))\n",
    "\n",
    "    plot(layer(z = (x,y) -> pdf(MvNormal(s_theta, s_omega), [x; y]),\n",
    "               x = linspace(limits_x[1], limits_x[2], 150), y = linspace(limits_y[1], limits_y[2], 150), \n",
    "               Geom.contour),\n",
    "         layer(zs_df, x = \"x\", y = \"y\", color = \"fit\", Geom.point))\n",
    "end"
   ]
  },
  {
   "cell_type": "code",
   "execution_count": 6,
   "metadata": {
    "collapsed": false
   },
   "outputs": [
    {
     "data": {
      "text/plain": [
       "run_pop (generic function with 2 methods)"
      ]
     },
     "execution_count": 6,
     "metadata": {},
     "output_type": "execute_result"
    }
   ],
   "source": [
    "function run_pop(ind::Individual,\n",
    "                 n_e::Int64,\n",
    "                 selectionRegimes::Array{ASCIIString,1},\n",
    "                 regimeGenerations::Array{Int64, 1};\n",
    "                 theta::Array{Float64, 1} = zeros(Float64, ind.p), \n",
    "                 delta_theta::Array{Float64, 1} = zeros(Float64, ind.p), \n",
    "                 omega::Array{Float64, 2} = diagm(ones(Float64, ind.p)), \n",
    "                 thin = 100)\n",
    "    \n",
    "    pop = Population(n_e, ind, 0)\n",
    "    RandomPop!(pop)\n",
    "\n",
    "    changeSurface!(pop, theta, omega)\n",
    "    fitness!(pop)\n",
    "    \n",
    "    run_pop(pop, selectionRegimes, regimeGenerations; \n",
    "            theta = theta, delta_theta = delta_theta, omega = omega, thin = thin)\n",
    "end\n",
    "\n",
    "function run_pop(pop::Population,\n",
    "                 selectionRegimes::Array{ASCIIString,1},\n",
    "                 regimeGenerations::Array{Int64, 1};\n",
    "                 theta::Array{Float64, 1} = pop.surface.μ, \n",
    "                 delta_theta::Array{Float64, 1} = zeros(Float64, ind.p), \n",
    "                 omega::Array{Float64, 2} = pop.surface.Σ,\n",
    "                 thin = 100)\n",
    "    \n",
    "    changeSurface!(pop, theta, omega)\n",
    "    fitness!(pop)\n",
    "    \n",
    "    holder_pop = copy(pop)\n",
    "    sires = zeros(Int64, pop.n)\n",
    "    dames = zeros(Int64, pop.n)\n",
    "    d_uni = DiscreteUniform(0, 1)\n",
    "    norm_e  = Normal(0, pop.base_ind.v_e)\n",
    "    alele_1 = zeros(Int64, Int64(pop.base_ind.m/2))\n",
    "    alele_2 = zeros(Int64, Int64(pop.base_ind.m/2))\n",
    "    \n",
    "    omega_var = omega[1, 1]\n",
    "\n",
    "    regimes = [i for i in zip(selectionRegimes, regimeGenerations)]\n",
    "    \n",
    "    for current_regime in regimes\n",
    "        @showprogress 2 current_regime[1] for i = 1:current_regime[2]\n",
    "            if(i % thin == 0) \n",
    "                moments!(pop)\n",
    "            end\n",
    "            if(startswith(normalize_string(strip(current_regime[1]), casefold = true), \"dire\"))\n",
    "                theta += delta_theta\n",
    "                changeSurface!(pop, theta, omega)\n",
    "            end\n",
    "            next_generation!(pop, holder_pop, sires, dames, d_uni, norm_e, alele_1, alele_2, \n",
    "            selective = normalize_string(strip(current_regime[1]), casefold = true) != \"drift\")\n",
    "        end\n",
    "    end\n",
    "    pop\n",
    "end"
   ]
  },
  {
   "cell_type": "code",
   "execution_count": 7,
   "metadata": {
    "collapsed": false
   },
   "outputs": [
    {
     "data": {
      "text/plain": [
       "This is a Population with 1000 individuals"
      ]
     },
     "execution_count": 7,
     "metadata": {},
     "output_type": "execute_result"
    }
   ],
   "source": [
    "n_e  = 1000\n",
    "m    = 200\n",
    "p    = 4\n",
    "v_e  = 0.8\n",
    "mu   = 0.0005\n",
    "mu_b = 0.0001\n",
    "mu_σ = 0.02\n",
    "\n",
    "global ind = Individual(m, p, v_e, mu, mu_b, mu_σ)\n",
    "warm_up = run_pop(ind, n_e, [\"Drift\"], [1])"
   ]
  },
  {
   "cell_type": "code",
   "execution_count": null,
   "metadata": {
    "collapsed": false,
    "scrolled": true
   },
   "outputs": [
    {
     "name": "stdout",
     "output_type": "stream",
     "text": [
      "Drift 34%  ETA: 0:02:19"
     ]
    }
   ],
   "source": [
    "omega_var = 100\n",
    "diag_omega = diagm(omega_var*ones(Float64, ind.p))\n",
    "\n",
    "burnin_pop = run_pop(ind, n_e, [\"Drift\", \"Stab\"], [10000, 10000]; omega = diag_omega, thin = 100)"
   ]
  },
  {
   "cell_type": "code",
   "execution_count": null,
   "metadata": {
    "collapsed": false
   },
   "outputs": [],
   "source": [
    "delta_theta_speed = 40/10000\n",
    "delta_theta = delta_theta_speed * [ones(Float64, Int64(ind.p/2)); -1 * ones(Float64, Int64(ind.p/2))]\n",
    "\n",
    "omega_var = 100\n",
    "omega = twoModuleMatrix(omega_var*ones(Float64, ind.p), 0.8, 0.8)\n",
    "\n",
    "direct_pop = copy(burnin_pop)\n",
    "direct_pop.moments = burnin_pop.moments\n",
    "direct_pop = run_pop(direct_pop, [\"Direct\"], [10000]; \n",
    "                    delta_theta = delta_theta, omega = omega, thin = 100)"
   ]
  },
  {
   "cell_type": "code",
   "execution_count": null,
   "metadata": {
    "collapsed": false
   },
   "outputs": [],
   "source": [
    "pop = direct_pop"
   ]
  },
  {
   "cell_type": "code",
   "execution_count": null,
   "metadata": {
    "collapsed": false
   },
   "outputs": [],
   "source": [
    "using Colors\n",
    "\n",
    "a = pop.moments[end][\"corrG\"]\n",
    "[a[i, i] = 0 for i in 1:size(a)[1]]\n",
    "spy(a, Scale.ContinuousColorScale(p -> Colors.HSV(0,p,1), minvalue=0, maxvalue=0.5))\n"
   ]
  },
  {
   "cell_type": "code",
   "execution_count": null,
   "metadata": {
    "collapsed": false,
    "scrolled": false
   },
   "outputs": [],
   "source": [
    "n = length(pop.moments)\n",
    "df = DataFrame(W = [pop.moments[i][\"corrG\"][1, 2] for i in 1:n],\n",
    "               B = [pop.moments[i][\"corrG\"][1, end] for i in 1:n],\n",
    "               G = collect(1:n) )\n",
    "plot(df, layer(y=\"W\", x=\"G\", Geom.line, Theme(default_color=colorant\"red\")),\n",
    "         layer(y=\"B\", x=\"G\", Geom.line),\n",
    "Guide.manual_color_key(\"Legend\", [\"Within\", \"Between\"], [\"red\", \"deepskyblue\"]))"
   ]
  },
  {
   "cell_type": "code",
   "execution_count": null,
   "metadata": {
    "collapsed": false
   },
   "outputs": [],
   "source": [
    "plotSurfacePop(burnin_pop)"
   ]
  },
  {
   "cell_type": "code",
   "execution_count": null,
   "metadata": {
    "collapsed": false
   },
   "outputs": [],
   "source": [
    "n = size(pop.moments)[1]\n",
    "df_trait = DataFrame(mod1 = [pop.moments[i][\"mean_z\"][1]   for i in 1:n],\n",
    "                     mod2 = [pop.moments[i][\"mean_z\"][end] for i in 1:n],\n",
    "                     gen = collect(1:n) )\n",
    "plot(df_trait, layer(y=\"mod1\", x=\"gen\", Geom.line, Theme(default_color=colorant\"red\")),\n",
    "               layer(y=\"mod2\", x=\"gen\", Geom.line),\n",
    "     Guide.manual_color_key(\"Legend\", [\"Trait Module 1\", \"Trait Module 2\"], [\"red\", \"deepskyblue\"]))"
   ]
  },
  {
   "cell_type": "code",
   "execution_count": null,
   "metadata": {
    "collapsed": false
   },
   "outputs": [],
   "source": [
    "eig(pop.surface.Σ.mat)[2][:, end-1:end]' * pop.moments[end][\"mean_z\"] - eig(pop.surface.Σ.mat)[2][:, end-1:end]' * pop.surface.μ "
   ]
  },
  {
   "cell_type": "code",
   "execution_count": null,
   "metadata": {
    "collapsed": false
   },
   "outputs": [],
   "source": [
    "n = size(pop.moments)[1]\n",
    "df_trait = DataFrame(P = [pop.moments[i][\"P\"][1, 1] for i in 1:n],\n",
    "h2 = [mean(pop.moments[i][\"h2\"]) for i in 1:n],\n",
    "                     gen = collect(1:n) )\n",
    "plot(df_trait, layer(y=\"h2\", x=\"gen\", Geom.line))"
   ]
  }
 ],
 "metadata": {
  "kernelspec": {
   "display_name": "Julia 0.5.0-dev",
   "language": "julia",
   "name": "julia-0.5"
  },
  "language_info": {
   "file_extension": ".jl",
   "mimetype": "application/julia",
   "name": "julia",
   "version": "0.4.4"
  }
 },
 "nbformat": 4,
 "nbformat_minor": 0
}
